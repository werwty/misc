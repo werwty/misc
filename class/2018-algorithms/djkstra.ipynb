{
 "cells": [
  {
   "cell_type": "code",
   "execution_count": 493,
   "metadata": {},
   "outputs": [],
   "source": [
    "from collections import defaultdict \n",
    "\n",
    "class Graph:\n",
    "  def __init__(self):\n",
    "    self.V = set()\n",
    "    self.E = defaultdict(list)\n",
    "    self.w = {}\n",
    "\n",
    "  def add_vertex(self, v):\n",
    "    self.V.add(v)\n",
    "\n",
    "  def add_edge(self, from_v, to_v, weight):\n",
    "    self.E[from_v].append(to_v)\n",
    "    self.E[to_v].append(from_v)\n",
    "    self.w[(from_v, to_v)] = weight\n",
    "    self.w[(to_v, from_v)] = weight"
   ]
  },
  {
   "cell_type": "code",
   "execution_count": 494,
   "metadata": {},
   "outputs": [
    {
     "name": "stdout",
     "output_type": "stream",
     "text": [
      "13 13\n",
      "0 1 2\n",
      "1 3 4\n",
      "3 6 12\n",
      "6 7 2\n",
      "0 4 3\n",
      "4 2 2\n",
      "2 5 7\n",
      "5 7 8\n",
      "7 10 3\n",
      "10 12 2\n",
      "7 9 1\n",
      "9 11 1\n",
      "11 12 3\n",
      "0 12\n"
     ]
    }
   ],
   "source": [
    "g = Graph()\n",
    "\n",
    "#number of edges\n",
    "n = int(input().split()[1])\n",
    "\n",
    "for i in range(0, n):\n",
    "    edge = input().split()\n",
    "    g.add_vertex(edge[0])\n",
    "    g.add_vertex(edge[1])\n",
    "    \n",
    "    g.add_edge(edge[0], edge[1], int(edge[2]))\n",
    "\n",
    "\n",
    "(source, dest)= input().split()\n"
   ]
  },
  {
   "cell_type": "code",
   "execution_count": 532,
   "metadata": {},
   "outputs": [],
   "source": [
    "import copy\n",
    "\n",
    "def dijsktra(graph, source, dest):\n",
    "    v={}\n",
    "    \n",
    "    for vertex in graph.V:\n",
    "        if vertex==source:            \n",
    "            v[vertex]={'d': 0,\n",
    "                      'p': None, \n",
    "                      'edges': 0,\n",
    "                      'path':set()}\n",
    "        else:\n",
    "            v[vertex]={'d': float('inf'),\n",
    "                      'p': None, \n",
    "                      'edges': 0,\n",
    "                      'path':set()}\n",
    "    \n",
    "    S = {}\n",
    "    Q = copy.deepcopy(v)\n",
    "    #print(min(v.items(), key=lambda v: v[1]['d']))\n",
    "    while len(Q.keys())>0:\n",
    "        u, random = min(Q.items(), key=lambda x: x[1]['d']) \n",
    "        \n",
    "        uval = v[u]\n",
    "        S[u]=uval\n",
    "       \n",
    "        for adjv in graph.E[u]:\n",
    "    \n",
    "        #print('adjacent vertex {} to vertex {}'.format(adjv, u))\n",
    "            #print(uval)\n",
    "\n",
    "            #print(v[adjv])\n",
    "\n",
    "            #print(v[adjv]['d'])\n",
    "            #print(uval['d'])\n",
    "            #print( graph.w[(adjv, u)])\n",
    "            \n",
    "\n",
    "            #lexographical comparison, if weight is equal, and number of edges are equal\n",
    "            if v[adjv]['d'] == uval['d'] + graph.w[(adjv, u)] and v[adjv]['edges']== uval['edges']+1 and ' '.join(str(i) for i in list(reversed(list(v[adjv]['path']))))> ' '.join(str(i) for i in list(reversed(list(uval['path'])))):\n",
    "                #print(' '.join(str(i) for i in list(reversed(list(v[adjv]['path'])))))\n",
    "                #print(' '.join(str(i) for i in list(reversed(list(uval['path'])))))\n",
    "                #print(adjv)\n",
    "                #print(v[adjv])\n",
    "                #print(uval)\n",
    "                v[adjv]['d'] = uval['d'] + graph.w[(adjv, u)]\n",
    "                v[adjv]['p'] = u\n",
    "                v[adjv]['edges'] += uval['edges'] + 1\n",
    "                v[adjv]['path']=  uval['path'] or set()\n",
    "                v[adjv]['path'].add(u)\n",
    "                Q[adjv]['d'] = uval['d'] + graph.w[(adjv, u)]               \n",
    "\n",
    "            # if number of edges is smaller...\n",
    "            elif v[adjv]['d'] == uval['d'] + graph.w[(adjv, u)] and v[adjv]['edges']> uval['edges']+1:\n",
    "                #print(v[adjv]['edges'])\n",
    "                #print(' '.join(str(i) for i in list(reversed(uval['path']))))\n",
    "                v[adjv]['d'] = uval['d'] + graph.w[(adjv, u)]\n",
    "                v[adjv]['p'] = u\n",
    "                v[adjv]['edges'] += uval['edges'] + 1\n",
    "                v[adjv]['path']=  uval['path'] or set()\n",
    "                v[adjv]['path'].add(u)\n",
    "                Q[adjv]['d'] = uval['d'] + graph.w[(adjv, u)]               \n",
    "\n",
    "                \n",
    "            if v[adjv]['d'] > uval['d'] + graph.w[(adjv, u)]:\n",
    "\n",
    "\n",
    "                v[adjv]['d'] = uval['d'] + graph.w[(adjv, u)]                \n",
    "                v[adjv]['p'] = u                \n",
    "                v[adjv]['edges'] += uval['edges'] + 1                \n",
    "                v[adjv]['path'] = uval['path'] or set()\n",
    "                v[adjv]['path'].add(u)\n",
    "                \n",
    "                Q[adjv]['d'] = uval['d'] + graph.w[(adjv, u)]               \n",
    "\n",
    "                \n",
    "\n",
    "\n",
    "        del Q[u]\n",
    "\n",
    "\n",
    "    return v"
   ]
  },
  {
   "cell_type": "code",
   "execution_count": 533,
   "metadata": {},
   "outputs": [],
   "source": [
    "graph2 = dijsktra(g, source, dest)\n",
    "\n",
    "def get_path(graph, dest):\n",
    "    path = [dest]\n",
    "    while graph[dest]['p'] is not None:\n",
    "        path.append(graph[dest]['p'])\n",
    "        dest = graph[dest]['p']\n",
    "    return list(reversed(path))"
   ]
  },
  {
   "cell_type": "code",
   "execution_count": 535,
   "metadata": {},
   "outputs": [
    {
     "name": "stdout",
     "output_type": "stream",
     "text": [
      "25\n",
      "0 1 3 6 7 10 12\n"
     ]
    }
   ],
   "source": [
    "print(graph2[dest]['d'])\n",
    "path = get_path(graph2, dest)\n",
    "print(' '.join(str(i) for i in path))\n",
    "#print(graph2['10'])"
   ]
  },
  {
   "cell_type": "code",
   "execution_count": null,
   "metadata": {},
   "outputs": [],
   "source": []
  },
  {
   "cell_type": "code",
   "execution_count": null,
   "metadata": {},
   "outputs": [],
   "source": []
  }
 ],
 "metadata": {
  "kernelspec": {
   "display_name": "Python 3",
   "language": "python",
   "name": "python3"
  },
  "language_info": {
   "codemirror_mode": {
    "name": "ipython",
    "version": 3
   },
   "file_extension": ".py",
   "mimetype": "text/x-python",
   "name": "python",
   "nbconvert_exporter": "python",
   "pygments_lexer": "ipython3",
   "version": "3.6.6"
  }
 },
 "nbformat": 4,
 "nbformat_minor": 2
}
