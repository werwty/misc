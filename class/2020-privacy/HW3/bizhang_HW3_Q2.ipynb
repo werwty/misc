{
 "cells": [
  {
   "cell_type": "code",
   "execution_count": 10,
   "metadata": {},
   "outputs": [],
   "source": [
    "\n",
    "import argparse\n",
    "import json\n",
    "from urllib.parse import urlparse\n",
    "from tld import get_fld\n",
    "from matplotlib_venn import venn2\n",
    "import matplotlib.pyplot as plt\n",
    "\n"
   ]
  },
  {
   "cell_type": "code",
   "execution_count": 2,
   "metadata": {},
   "outputs": [],
   "source": [
    "# Code is from https://gist.github.com/tomatohater/8853161\n",
    "def parse_har(harfile_path):\n",
    "    \"\"\"Reads a har file from the filesystem, converts to CSV, then dumps to\n",
    "    stdout.\n",
    "    \"\"\"\n",
    "    urls = []\n",
    "    harfile = open(harfile_path)\n",
    "    harfile_json = json.loads(harfile.read())\n",
    "    i = 0\n",
    "\n",
    "    for entry in harfile_json['log']['entries']:\n",
    "        i = i + 1\n",
    "        url = entry['request']['url']\n",
    "        urlparts = urlparse(entry['request']['url'])\n",
    "        size_bytes = entry['response']['bodySize']\n",
    "        size_kilobytes = float(entry['response']['bodySize'])/1024\n",
    "        mimetype = 'unknown'\n",
    "        if 'mimeType' in entry['response']['content']:\n",
    "            mimetype = entry['response']['content']['mimeType']\n",
    "        urls.append(url)\n",
    "        #print(f\"{i}, {url}, {urlparts.hostname}, {size_bytes}\")\n",
    "    return urls"
   ]
  },
  {
   "cell_type": "code",
   "execution_count": 3,
   "metadata": {},
   "outputs": [],
   "source": [
    "def get_domains(harfile_path, first_party_domains):\n",
    "    urls = parse_har(harfile_path)\n",
    "    domains = set()\n",
    "    for url in urls:\n",
    "        try:\n",
    "            domain = get_fld(url)\n",
    "            if domain not in first_party_domains:\n",
    "                domains.add(domain)\n",
    "        except Exception as e:\n",
    "            print(f\"invalid domain in {url}\")\n",
    "    return domains"
   ]
  },
  {
   "cell_type": "code",
   "execution_count": 21,
   "metadata": {},
   "outputs": [
    {
     "name": "stdout",
     "output_type": "stream",
     "text": [
      "Get Thrid Party Domains for CNN\n",
      "invalid domain in https://todo/?google_gid=CAESECD2O5xN3IZm4NHYL1az6ek&google_cver=1&google_push=AeyLB5c6ogjcdHvaAWC4o_iMmkq40-60yoAsz03koX6iroBLlxgzqJZV31BTJ4nlpedPWGjVgN1j-xohR4NRYH1NO00fviA6Deim\n",
      "{'moatads.com', 'segment.com', 'tru.am', 'brealtime.com', 'google-analytics.com', 'serverbid.com', 'doubleclick.net', 'bidr.io', 'taboola.com', 'agkn.com', 'rubiconproject.com', 'casalemedia.com', 'gumgum.com', 'amazon-adsystem.com', 'krxd.net', 'google.com', 'dyntrk.com', '1rx.io', 'gstatic.com', 'resetdigital.co', 'lendingtree.com', 'adnxs.com', 'netmng.com', 'zemanta.com', 'criteo.com', 'adgrx.com', 'tapad.com', 'trustarc.com', 'bidswitch.net', 'gwallet.com', 'ugdturner.com', 'yieldoptimizer.com', 'segment.io', 'turner.com', 'truoptik.com', 'adsymptotic.com', '3lift.com', 'yahoo.com', 'bluekai.com', 'facebook.net', 'crwdcntrl.net', 'fwmrm.net', 'tidaltv.com', 'advertising.com', 'bidtheatre.com', 'jsdelivr.net', 'appier.net', 'bing.com', 'imrworldwide.com', 'outbrainimg.com', 'outbrain.com', 'quantserve.com', 't.co', 'im-apps.net', 'usabilla.com', 'googletagservices.com', 'eyeota.net', 'sharedid.org', 'ipredictive.com', 'criteo.net', 'demdex.net', 'yieldmo.com', 'impdesk.com', 'tribalfusion.com', 'adform.net', 'ads-twitter.com', 'media.net', '2mdn.net', 'd9t9vcvz5fqud.cloudfront.net', 'rkdms.com', 'googlesyndication.com', 'exelator.com', 'indexww.com', 'twitter.com', 'pubmatic.com', 'eyereturn.com', 'rundsp.com', 'contextweb.com', 'adhigh.net', 'optimizely.com', 'bouncex.net', 'iasds01.com', 'summerhamster.com', 'technoratimedia.com', 'adsafeprotected.com', 'addthis.com', 'bleacherreport.net', 'truste.com', 'bttrack.com', 'turn.com', 'smartadserver.com', 'flashtalking.com', 'navdmp.com', 'everesttech.net', 'fonts.googleapis.com', 'videohub.tv', 'zorosrv.com', 'acuityplatform.com', 'boomtrain.com', 'cnn.io', 'mfadsrvr.com', 'trustx.org', 'emxdgt.com', 'geistm.com', 'adswizz.com', 'dotomi.com', 'w55c.net', 'atdmt.com', 'creativecdn.com', 'powerlinks.com', 'owneriq.net', 'spotxchange.com', 'chartbeat.com', 'beemray.com', 'mxptint.net', 'cookielaw.org', 'tree.com', 'bootstrapcdn.com', 'simpli.fi', 'adition.com', 'mathtag.com', 'rlcdn.com', 'chartbeat.net', 'facebook.com', 'bounceexchange.com', 'scorecardresearch.com', 'adentifi.com', 'cloudflare.com', 'adsrvr.org', 'onetrust.com', 'behave.com', 'googletagmanager.com', 'sitescout.com', 'socdm.com'}\n",
      "CNN has 134 third part domains\n",
      "\n",
      "Get Thrid Party Domains for Macys\n",
      "{'bam-x.com', 'yimg.com', 'omtrdc.net', 'yahoo.com', 'adform.net', 'reson8.com', 'bluekai.com', 'ads-twitter.com', 'facebook.net', 'google-analytics.com', 'kampyle.com', 'smarterhq.io', 'doubleclick.net', 'macysassets.com', 'twitter.com', 'narrativ.com', 'go-mpulse.net', 'storetail.net', 'pubmatic.com', 'owneriq.net', 'bing.com', 'tiqcdn.com', 'taboola.com', 'agkn.com', 'openx.net', 'casalemedia.com', 'pinterest.com', 'rubiconproject.com', 'd1n00d49gkbray.cloudfront.net', 'outbrain.com', 'contextweb.com', 'akstat.io', 'pinimg.com', 'krxd.net', 'google.com', 't.co', 'criteo.net', 'adnxs.com', 'rmtag.com', 'mathtag.com', 'rlcdn.com', 'digitru.st', 'facebook.com', 'linksynergy.com', 'akamaihd.net', 'criteo.com', 'tapad.com', 'medallia.com', 'hlserve.com', 'bidswitch.net', 'ibmcloud.com', 'everesttech.net', 'googletagmanager.com', 'demdex.net'}\n",
      "Macys has 54 third part domains\n"
     ]
    }
   ],
   "source": [
    "print(\"Get Thrid Party Domains for CNN\")\n",
    "cnn_domains = get_domains('./www.cnn.com.har', [\"cnn.com\"])\n",
    "print(cnn_domains)\n",
    "print(f\"CNN has {len(cnn_domains)} third part domains\\n\")\n",
    "\n",
    "\n",
    "print(\"Get Thrid Party Domains for Macys\")\n",
    "macys_domains = get_domains('./www.macys.com.har', [\"macys.com\"])\n",
    "print(macys_domains)\n",
    "print(f\"Macys has {len(macys_domains)} third part domains\")\n"
   ]
  },
  {
   "cell_type": "code",
   "execution_count": 22,
   "metadata": {},
   "outputs": [
    {
     "data": {
      "image/png": "[encoded data removed]",
      "text/plain": [
       "<Figure size 432x288 with 1 Axes>"
      ]
     },
     "metadata": {},
     "output_type": "display_data"
    },
    {
     "name": "stdout",
     "output_type": "stream",
     "text": [
      "Shared Third Party Domains:\n",
      "['google-analytics.com', 'doubleclick.net', 'taboola.com', 'agkn.com', 'rubiconproject.com', 'casalemedia.com', 'krxd.net', 'google.com', 'adnxs.com', 'criteo.com', 'tapad.com', 'bidswitch.net', 'yahoo.com', 'bluekai.com', 'facebook.net', 'bing.com', 'outbrain.com', 't.co', 'criteo.net', 'demdex.net', 'adform.net', 'ads-twitter.com', 'twitter.com', 'pubmatic.com', 'contextweb.com', 'everesttech.net', 'owneriq.net', 'mathtag.com', 'rlcdn.com', 'facebook.com', 'googletagmanager.com']\n"
     ]
    }
   ],
   "source": [
    "v = venn2([cnn_domains, macys_domains], \n",
    "          set_labels = ('CNN Third Party Domains', 'Macys Third Party Domains'))\n",
    "\n",
    "labels = ['102', '31', '23']\n",
    "#for label in labels:\n",
    "#    v.get_label_by_id(label).set_text(label)\n",
    "plt.show()\n",
    "\n",
    "\n",
    "shared_third_party = [domain for domain in cnn_domains if domain in macys_domains]\n",
    "print(\"Shared Third Party Domains:\")\n",
    "print(shared_third_party)"
   ]
  },
  {
   "cell_type": "code",
   "execution_count": null,
   "metadata": {},
   "outputs": [],
   "source": []
  }
 ],
 "metadata": {
  "kernelspec": {
   "display_name": "Python 3",
   "language": "python",
   "name": "python3"
  },
  "language_info": {
   "codemirror_mode": {
    "name": "ipython",
    "version": 3
   },
   "file_extension": ".py",
   "mimetype": "text/x-python",
   "name": "python",
   "nbconvert_exporter": "python",
   "pygments_lexer": "ipython3",
   "version": "3.7.9"
  }
 },
 "nbformat": 4,
 "nbformat_minor": 4
}
