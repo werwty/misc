{
 "cells": [
  {
   "cell_type": "code",
   "execution_count": 71,
   "metadata": {},
   "outputs": [],
   "source": [
    "denominations = [50, 25, 10, 5,1 ]\n",
    "\n",
    "def get_change(n, denominations, coins):\n",
    "    for c in denominations:\n",
    "        if n>=c:\n",
    "            coins.append(c)\n",
    "            n=n-c\n",
    "            break\n",
    "\n",
    "    if n==0:\n",
    "        return coins\n",
    "\n",
    "    return get_change(n, denominations, coins)\n",
    "    "
   ]
  },
  {
   "cell_type": "code",
   "execution_count": 72,
   "metadata": {},
   "outputs": [
    {
     "data": {
      "text/plain": [
       "[10, 5, 1]"
      ]
     },
     "execution_count": 72,
     "metadata": {},
     "output_type": "execute_result"
    }
   ],
   "source": [
    "get_change(16, denominations, [])\n"
   ]
  },
  {
   "cell_type": "code",
   "execution_count": 56,
   "metadata": {},
   "outputs": [
    {
     "name": "stdout",
     "output_type": "stream",
     "text": [
      "None\n"
     ]
    }
   ],
   "source": [
    "def get_change_non_recursive(n, denominations):\n",
    "    coins = []\n",
    "    for c in denominations:\n",
    "        \n",
    "        # Get the quotent and remainder for n/c\n",
    "        # https://docs.python.org/3/library/functions.html#divmod\n",
    "        quotient, remainder = divmod(n, c)   \n",
    "        \n",
    "        # add the denomination c, into the coin array, a quotient amount of times\n",
    "        coins.extend[c for i in range(quotient)]\n",
    "        \n",
    "        # n is set to remainder, the amount that we haven't accounted for yet\n",
    "        n=remainder\n",
    "        \n",
    "    return coins\n"
   ]
  },
  {
   "cell_type": "code",
   "execution_count": null,
   "metadata": {},
   "outputs": [],
   "source": []
  }
 ],
 "metadata": {
  "kernelspec": {
   "display_name": "Python 3",
   "language": "python",
   "name": "python3"
  },
  "language_info": {
   "codemirror_mode": {
    "name": "ipython",
    "version": 3
   },
   "file_extension": ".py",
   "mimetype": "text/x-python",
   "name": "python",
   "nbconvert_exporter": "python",
   "pygments_lexer": "ipython3",
   "version": "3.6.6"
  }
 },
 "nbformat": 4,
 "nbformat_minor": 2
}
