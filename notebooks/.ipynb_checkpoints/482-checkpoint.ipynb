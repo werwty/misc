{
 "cells": [
  {
   "cell_type": "code",
   "execution_count": 121,
   "metadata": {},
   "outputs": [],
   "source": [
    "import os\n",
    "\n",
    "from urllib.parse import urlparse\n",
    "\n",
    "from azure.common.credentials import ServicePrincipalCredentials\n",
    "from azure.mgmt.compute import ComputeManagementClient\n",
    "from azure.mgmt.resource import ResourceManagementClient"
   ]
  },
  {
   "cell_type": "code",
   "execution_count": 122,
   "metadata": {},
   "outputs": [],
   "source": [
    "subscription_id = os.environ.get('AZURE_SUBSCRIPTION_ID') \n",
    "credentials = ServicePrincipalCredentials(\n",
    "    client_id=os.environ['AZURE_CLIENT_ID'],\n",
    "    secret=os.environ['AZURE_CLIENT_SECRET'],\n",
    "    tenant=os.environ['AZURE_TENANT_ID']\n",
    ")\n",
    "compute_client = ComputeManagementClient(credentials, subscription_id)"
   ]
  },
  {
   "cell_type": "code",
   "execution_count": 123,
   "metadata": {},
   "outputs": [
    {
     "name": "stdout",
     "output_type": "stream",
     "text": [
      "{'additional_properties': {}, 'id': '/subscriptions/c59c7cfb-bf7b-45f6-ad64-9f18fd05faf7/resourceGroups/CLOUDIGRADE-GROUP/providers/Microsoft.Compute/images/test-image', 'name': 'test-image', 'type': 'Microsoft.Compute/images', 'location': 'eastus', 'tags': None, 'source_virtual_machine': None, 'storage_profile': <azure.mgmt.compute.v2018_06_01.models.image_storage_profile_py3.ImageStorageProfile object at 0x7f07d2270be0>, 'provisioning_state': 'Succeeded'}\n",
      "Image: test-image\n",
      "Image Tags: None\n",
      "Image Owner Subscription ID: c59c7cfb-bf7b-45f6-ad64-9f18fd05faf7\n",
      "Detected OS: windows\n"
     ]
    }
   ],
   "source": [
    "for image in compute_client.images.list():\n",
    "    print(image)\n",
    "    print(\"Image: {}\".format(image.name))\n",
    "    print(\"Image Tags: {}\".format(str(image.tags)))    \n",
    "    print(\"Image Owner Subscription ID: {}\".format(image.id.split(\"/\")[2]))    \n",
    "    print(\"Detected OS: {}\".format(image.storage_profile.os_disk.os_type.name))"
   ]
  },
  {
   "cell_type": "code",
   "execution_count": null,
   "metadata": {},
   "outputs": [],
   "source": []
  }
 ],
 "metadata": {
  "kernelspec": {
   "display_name": "Python 3",
   "language": "python",
   "name": "python3"
  },
  "language_info": {
   "codemirror_mode": {
    "name": "ipython",
    "version": 3
   },
   "file_extension": ".py",
   "mimetype": "text/x-python",
   "name": "python",
   "nbconvert_exporter": "python",
   "pygments_lexer": "ipython3",
   "version": "3.6.6"
  }
 },
 "nbformat": 4,
 "nbformat_minor": 2
}
