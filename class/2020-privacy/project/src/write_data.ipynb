{
 "cells": [
  {
   "cell_type": "code",
   "execution_count": 2,
   "metadata": {},
   "outputs": [],
   "source": [
    "import json\n",
    "import os\n",
    "import pathlib\n",
    "import requests\n"
   ]
  },
  {
   "cell_type": "code",
   "execution_count": 3,
   "metadata": {},
   "outputs": [],
   "source": [
    "dir = \"../data/MO/MSU/\"\n",
    "pathlib.Path(dir).mkdir(parents=True, exist_ok=True)"
   ]
  },
  {
   "cell_type": "code",
   "execution_count": null,
   "metadata": {},
   "outputs": [],
   "source": [
    "privacy_policy = {\n",
    "    \"privacy_policy\": [\n",
    "        {\"policy_text\": \"\", \"url\": \"\", \"is_official\":True, \"is_thirdparty\": True, \"is_covid_specific\": True}\n",
    "    ],\n",
    "    \"has_self_reporting_site\": True,\n",
    "    \"is_self_reporting_site_third_party\": True,\n",
    "}"
   ]
  },
  {
   "cell_type": "code",
   "execution_count": 32,
   "metadata": {},
   "outputs": [],
   "source": [
    "policy_url = \"https://www.missouristate.edu/Policy/Op12_02_8_Privacy.htm\"\n",
    "policy_text = \"\""
   ]
  },
  {
   "cell_type": "code",
   "execution_count": 34,
   "metadata": {},
   "outputs": [],
   "source": [
    "\n",
    "with open(os.path.join(dir,\"privacy_policy.json\"), 'w') as outfile:\n",
    "    json.dump(privacy_policy, outfile, indent=4)"
   ]
  },
  {
   "cell_type": "code",
   "execution_count": 35,
   "metadata": {},
   "outputs": [],
   "source": [
    "guidelines= {\n",
    "    \"urls\": [policy_url],\n",
    "    \"app\": \"\"\"\n",
    "    \"\"\",\n",
    "    \"contact_tracing\": \"\"\"\n",
    "    \"\"\",\n",
    "    \"self_reporting\": \"\"\"\n",
    "The university has created a COVID-19 Response Team to manage the COVID-19 situation on campus.\n",
    "\n",
    "It is vital that you notify the COVID-19 Response Team if:\n",
    "\n",
    "You test positive for COVID-19.\n",
    "A health care provider tells you that you are presumed positive.\n",
    "You have been instructed to quarantine.\n",
    "You have been in close contact with some who has COVID-19.\n",
    "Complete the COVID-19 Reporting Form now.\n",
    "\n",
    "Contact information\n",
    "If you meet any of the listed criteria, please notify the university by completing the COVID-19 Reporting Form.\n",
    "\n",
    "A team member will contact you to give you instructions that align with isolation and quarantine protocols established by the Springfield-Greene County Health Department.\n",
    "\n",
    "If you are an employee, contact your department head or supervisor and follow their instructions. If necessary, you should work with Human Resources to determine what leave, telework, and other options are available to allow you to remain off campus throughout your isolation or quarantine period.\n",
    "\n",
    "If you are a student, contact your instructors to make arrangements to keep up with your course work. You can also contact the Student Success InfoLine for resources to help you keep up with your coursework.\n",
    "\"\"\"}\n",
    "with open(os.path.join(dir,\"guidelines.json\"), 'w') as outfile:\n",
    "    json.dump(guidelines, outfile, indent=4)"
   ]
  },
  {
   "cell_type": "code",
   "execution_count": null,
   "metadata": {},
   "outputs": [],
   "source": []
  },
  {
   "cell_type": "code",
   "execution_count": null,
   "metadata": {},
   "outputs": [],
   "source": []
  },
  {
   "cell_type": "code",
   "execution_count": null,
   "metadata": {},
   "outputs": [],
   "source": []
  }
 ],
 "metadata": {
  "kernelspec": {
   "display_name": "Python 3",
   "language": "python",
   "name": "python3"
  },
  "language_info": {
   "codemirror_mode": {
    "name": "ipython",
    "version": 3
   },
   "file_extension": ".py",
   "mimetype": "text/x-python",
   "name": "python",
   "nbconvert_exporter": "python",
   "pygments_lexer": "ipython3",
   "version": "3.8.5"
  }
 },
 "nbformat": 4,
 "nbformat_minor": 4
}
