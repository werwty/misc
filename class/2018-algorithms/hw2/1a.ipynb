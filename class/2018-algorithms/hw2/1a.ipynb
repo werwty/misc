{
 "cells": [
  {
   "cell_type": "code",
   "execution_count": 12,
   "metadata": {},
   "outputs": [],
   "source": [
    "denominations = [50, 25, 10, 5,1 ]\n",
    "\n",
    "def get_change(n, denominations, coins, i):\n",
    "    \n",
    "    for c in denominations:\n",
    "        if n>=c:\n",
    "            coins.append(c)\n",
    "            n=n-c\n",
    "            break\n",
    "    print(\"{}th recursion, original n: {}, largest coin that fits: {}, \"\\\n",
    "          \"new n: {}\".format(i, n+c, c, n))\n",
    "    \n",
    "    if n==0:\n",
    "        return coins\n",
    "    i=i+1\n",
    "    return get_change(n, denominations, coins, i)\n",
    "    "
   ]
  },
  {
   "cell_type": "code",
   "execution_count": 13,
   "metadata": {},
   "outputs": [
    {
     "name": "stdout",
     "output_type": "stream",
     "text": [
      "0th recursion, original n: 2641, largest coin that fits: 50, new n: 2591\n",
      "1th recursion, original n: 2591, largest coin that fits: 50, new n: 2541\n",
      "2th recursion, original n: 2541, largest coin that fits: 50, new n: 2491\n",
      "3th recursion, original n: 2491, largest coin that fits: 50, new n: 2441\n",
      "4th recursion, original n: 2441, largest coin that fits: 50, new n: 2391\n",
      "5th recursion, original n: 2391, largest coin that fits: 50, new n: 2341\n",
      "6th recursion, original n: 2341, largest coin that fits: 50, new n: 2291\n",
      "7th recursion, original n: 2291, largest coin that fits: 50, new n: 2241\n",
      "8th recursion, original n: 2241, largest coin that fits: 50, new n: 2191\n",
      "9th recursion, original n: 2191, largest coin that fits: 50, new n: 2141\n",
      "10th recursion, original n: 2141, largest coin that fits: 50, new n: 2091\n",
      "11th recursion, original n: 2091, largest coin that fits: 50, new n: 2041\n",
      "12th recursion, original n: 2041, largest coin that fits: 50, new n: 1991\n",
      "13th recursion, original n: 1991, largest coin that fits: 50, new n: 1941\n",
      "14th recursion, original n: 1941, largest coin that fits: 50, new n: 1891\n",
      "15th recursion, original n: 1891, largest coin that fits: 50, new n: 1841\n",
      "16th recursion, original n: 1841, largest coin that fits: 50, new n: 1791\n",
      "17th recursion, original n: 1791, largest coin that fits: 50, new n: 1741\n",
      "18th recursion, original n: 1741, largest coin that fits: 50, new n: 1691\n",
      "19th recursion, original n: 1691, largest coin that fits: 50, new n: 1641\n",
      "20th recursion, original n: 1641, largest coin that fits: 50, new n: 1591\n",
      "21th recursion, original n: 1591, largest coin that fits: 50, new n: 1541\n",
      "22th recursion, original n: 1541, largest coin that fits: 50, new n: 1491\n",
      "23th recursion, original n: 1491, largest coin that fits: 50, new n: 1441\n",
      "24th recursion, original n: 1441, largest coin that fits: 50, new n: 1391\n",
      "25th recursion, original n: 1391, largest coin that fits: 50, new n: 1341\n",
      "26th recursion, original n: 1341, largest coin that fits: 50, new n: 1291\n",
      "27th recursion, original n: 1291, largest coin that fits: 50, new n: 1241\n",
      "28th recursion, original n: 1241, largest coin that fits: 50, new n: 1191\n",
      "29th recursion, original n: 1191, largest coin that fits: 50, new n: 1141\n",
      "30th recursion, original n: 1141, largest coin that fits: 50, new n: 1091\n",
      "31th recursion, original n: 1091, largest coin that fits: 50, new n: 1041\n",
      "32th recursion, original n: 1041, largest coin that fits: 50, new n: 991\n",
      "33th recursion, original n: 991, largest coin that fits: 50, new n: 941\n",
      "34th recursion, original n: 941, largest coin that fits: 50, new n: 891\n",
      "35th recursion, original n: 891, largest coin that fits: 50, new n: 841\n",
      "36th recursion, original n: 841, largest coin that fits: 50, new n: 791\n",
      "37th recursion, original n: 791, largest coin that fits: 50, new n: 741\n",
      "38th recursion, original n: 741, largest coin that fits: 50, new n: 691\n",
      "39th recursion, original n: 691, largest coin that fits: 50, new n: 641\n",
      "40th recursion, original n: 641, largest coin that fits: 50, new n: 591\n",
      "41th recursion, original n: 591, largest coin that fits: 50, new n: 541\n",
      "42th recursion, original n: 541, largest coin that fits: 50, new n: 491\n",
      "43th recursion, original n: 491, largest coin that fits: 50, new n: 441\n",
      "44th recursion, original n: 441, largest coin that fits: 50, new n: 391\n",
      "45th recursion, original n: 391, largest coin that fits: 50, new n: 341\n",
      "46th recursion, original n: 341, largest coin that fits: 50, new n: 291\n",
      "47th recursion, original n: 291, largest coin that fits: 50, new n: 241\n",
      "48th recursion, original n: 241, largest coin that fits: 50, new n: 191\n",
      "49th recursion, original n: 191, largest coin that fits: 50, new n: 141\n",
      "50th recursion, original n: 141, largest coin that fits: 50, new n: 91\n",
      "51th recursion, original n: 91, largest coin that fits: 50, new n: 41\n",
      "52th recursion, original n: 41, largest coin that fits: 25, new n: 16\n",
      "53th recursion, original n: 16, largest coin that fits: 10, new n: 6\n",
      "54th recursion, original n: 6, largest coin that fits: 5, new n: 1\n",
      "55th recursion, original n: 1, largest coin that fits: 1, new n: 0\n"
     ]
    },
    {
     "data": {
      "text/plain": [
       "[50,\n",
       " 50,\n",
       " 50,\n",
       " 50,\n",
       " 50,\n",
       " 50,\n",
       " 50,\n",
       " 50,\n",
       " 50,\n",
       " 50,\n",
       " 50,\n",
       " 50,\n",
       " 50,\n",
       " 50,\n",
       " 50,\n",
       " 50,\n",
       " 50,\n",
       " 50,\n",
       " 50,\n",
       " 50,\n",
       " 50,\n",
       " 50,\n",
       " 50,\n",
       " 50,\n",
       " 50,\n",
       " 50,\n",
       " 50,\n",
       " 50,\n",
       " 50,\n",
       " 50,\n",
       " 50,\n",
       " 50,\n",
       " 50,\n",
       " 50,\n",
       " 50,\n",
       " 50,\n",
       " 50,\n",
       " 50,\n",
       " 50,\n",
       " 50,\n",
       " 50,\n",
       " 50,\n",
       " 50,\n",
       " 50,\n",
       " 50,\n",
       " 50,\n",
       " 50,\n",
       " 50,\n",
       " 50,\n",
       " 50,\n",
       " 50,\n",
       " 50,\n",
       " 25,\n",
       " 10,\n",
       " 5,\n",
       " 1]"
      ]
     },
     "execution_count": 13,
     "metadata": {},
     "output_type": "execute_result"
    }
   ],
   "source": [
    "get_change(2641, denominations, [], 0)\n"
   ]
  },
  {
   "cell_type": "code",
   "execution_count": 75,
   "metadata": {},
   "outputs": [],
   "source": [
    "def get_change_non_recursive(n, denominations):\n",
    "    coins = []\n",
    "    for c in denominations:\n",
    "        \n",
    "        # Get the quotent and remainder for n/c\n",
    "        # https://docs.python.org/3/library/functions.html#divmod\n",
    "        quotient, remainder = divmod(n, c)   \n",
    "        \n",
    "        # add the denomination c, into the coin array, a quotient amount of times\n",
    "        coins.extend([c for i in range(quotient)])\n",
    "        \n",
    "        # n is set to remainder, the amount that we haven't accounted for yet\n",
    "        n=remainder\n",
    "        \n",
    "    return coins\n"
   ]
  },
  {
   "cell_type": "code",
   "execution_count": 76,
   "metadata": {},
   "outputs": [
    {
     "data": {
      "text/plain": [
       "[10, 5, 1]"
      ]
     },
     "execution_count": 76,
     "metadata": {},
     "output_type": "execute_result"
    }
   ],
   "source": [
    "get_change_non_recursive(16, denominations)"
   ]
  },
  {
   "cell_type": "code",
   "execution_count": null,
   "metadata": {},
   "outputs": [],
   "source": []
  }
 ],
 "metadata": {
  "kernelspec": {
   "display_name": "Python 3",
   "language": "python",
   "name": "python3"
  },
  "language_info": {
   "codemirror_mode": {
    "name": "ipython",
    "version": 3
   },
   "file_extension": ".py",
   "mimetype": "text/x-python",
   "name": "python",
   "nbconvert_exporter": "python",
   "pygments_lexer": "ipython3",
   "version": "3.6.6"
  }
 },
 "nbformat": 4,
 "nbformat_minor": 2
}
