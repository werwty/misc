{
 "cells": [
  {
   "cell_type": "code",
   "execution_count": 1,
   "metadata": {},
   "outputs": [],
   "source": [
    "import re, sys\n",
    "import math, random\n",
    "import numpy as np\n",
    "import operator\n",
    "\n",
    "from pprint import pprint\n",
    "from collections import namedtuple"
   ]
  },
  {
   "cell_type": "code",
   "execution_count": 2,
   "metadata": {},
   "outputs": [],
   "source": [
    "def add_ratings(db, chunks, num):\n",
    "    if not chunks[0] in db:\n",
    "        db[chunks[0]] = {}\n",
    "    db[chunks[0]][num] = int(chunks[2])\n",
    "\n",
    "def read_files(db, num):\n",
    "    movie_file = \"movies/\"+num\n",
    "    ratings = []\n",
    "    fo = open(movie_file, \"r\")\n",
    "    r = 0\n",
    "    for line in fo:\n",
    "        chunks = re.split(\",\", line)\n",
    "        chunks[len(chunks)-1] = chunks[len(chunks)-1].strip()\n",
    "        add_ratings(db, chunks, num)\n",
    "\n",
    "#### END----- functions to read movie files and create db ----- ####"
   ]
  },
  {
   "cell_type": "code",
   "execution_count": 45,
   "metadata": {},
   "outputs": [],
   "source": [
    "def score(movies):\n",
    "    '''\n",
    "    Inputs: weights of movies, max rating per moive, auxiliary information, and a record, \n",
    "    Returns the corresponding score\n",
    "    '''\n",
    "    #### ----- your code here ----- ####\n",
    "\n",
    "    movie_score = 0 \n",
    "    \n",
    "    supp = 12\n",
    "        \n",
    "    for movie in movies:\n",
    "        w = movie.weight\n",
    "        p = movie.p\n",
    "        aux = movie.aux\n",
    "        r = movie.rating\n",
    "        id = movie.id\n",
    "        \n",
    "        if r is None:\n",
    "            continue\n",
    "\n",
    "        T = 1- (abs(aux - r)/p)\n",
    "        #print(f\"Calculating score for {id}, {movie_score}, {w*T/supp}\")\n",
    "\n",
    "        movie_score = movie_score + w*T/supp\n",
    "   \n",
    "    return movie_score\n",
    "\n",
    "\n",
    "\n",
    "def compute_weights(db):\n",
    "    '''\n",
    "    Input: database of users\n",
    "    Returns weights of all movies\n",
    "    '''\n",
    "    #### ----- your code here ----- ####\n",
    "\n",
    "    ## you can use 10 base log\n",
    "    \n",
    "    # dict with movie_id as key and frequency as value\n",
    "    movie_freq = {}\n",
    "    for user, movies in db.items():\n",
    "        for movie,ratings in movies.items():\n",
    "            if not movie in movie_freq:\n",
    "                movie_freq[movie]=1\n",
    "            else:\n",
    "                movie_freq[movie]=movie_freq[movie]+1\n",
    "    \n",
    "    weights = {}\n",
    "    for movie, freq in movie_freq.items():\n",
    "        weights[movie]=1/math.log10(freq)\n",
    "        \n",
    "    return weights\n",
    "        \n",
    "\n",
    "def compute_p(db, aux):\n",
    "    '''\n",
    "    Input: database of users\n",
    "    Returns weights of all movies\n",
    "    '''\n",
    "    #### ----- your code here ----- ####\n",
    "\n",
    "    ## you can use 10 base log\n",
    "    \n",
    "    # dict with movie_id as key and frequency as value\n",
    "    movie_rating_range = {}\n",
    "    for user, movies in db.items():\n",
    "        for movie, rating in movies.items():\n",
    "            if movie not in movie_rating_range:\n",
    "                movie_rating_range[movie] = set()            \n",
    "            movie_rating_range[movie].add(rating)\n",
    "            \n",
    "    movie_rating_p = {}\n",
    "    for movie, rating_range in movie_rating_range.items():\n",
    "        aux_rating = aux.get(movie, None)\n",
    "        if aux_rating is not None:\n",
    "            rating_range.add(aux_rating)\n",
    "        movie_rating_p[movie] = (max(rating_range)- min(rating_range))\n",
    "            \n",
    "    return movie_rating_p\n",
    "        "
   ]
  },
  {
   "cell_type": "code",
   "execution_count": 46,
   "metadata": {},
   "outputs": [],
   "source": [
    "db = {}\n",
    "files = [\"03124\", \"06315\", \"07242\", \"16944\", \"17113\",\n",
    "        \"10935\", \"11977\", \"03276\", \"14199\", \"08191\",\n",
    "        \"06004\", \"01292\", \"15267\", \"03768\", \"02137\"]\n",
    "\n",
    "for file in files:\n",
    "    read_files(db, file)\n",
    "\n",
    "MovieInfo = namedtuple(\"MovieInfo\", 'id, aux, rating, weight, p')\n",
    "\n",
    "auxes = { '14199': 4.5, '17113': 4.2, '06315': 4.0, '01292': 3.3,\n",
    "        '11977': 4.2, '15267': 4.2, '08191': 3.8, '16944': 4.2,\n",
    "        '07242': 3.9, '06004': 3.9, '03768': 3.5, '03124': 3.5}"
   ]
  },
  {
   "cell_type": "code",
   "execution_count": 54,
   "metadata": {},
   "outputs": [
    {
     "name": "stdout",
     "output_type": "stream",
     "text": [
      "Question 1a, Weights\n",
      "Movie ID, weight\n",
      "03124, 0.27103391082217876\n",
      "14199, 0.2711777534611824\n",
      "06315, 0.2710861246194568\n",
      "07242, 0.2712302590154106\n",
      "17113, 0.2712697082686535\n",
      "10935, 0.27122368998682783\n",
      "11977, 0.2712894554827877\n",
      "03768, 0.29119798994551205\n",
      "02137, 0.29113029735230445\n",
      "06004, 0.29118443894696805\n",
      "08191, 0.2712960412389864\n",
      "15267, 0.2914293175340726\n",
      "03276, 0.2713553886055061\n",
      "16944, 0.2711188119190368\n",
      "01292, 0.29129302224118986\n",
      "weights={'03124': 0.27103391082217876, '14199': 0.2711777534611824, '06315': 0.2710861246194568, '07242': 0.2712302590154106, '17113': 0.2712697082686535, '10935': 0.27122368998682783, '11977': 0.2712894554827877, '03768': 0.29119798994551205, '02137': 0.29113029735230445, '06004': 0.29118443894696805, '08191': 0.2712960412389864, '15267': 0.2914293175340726, '03276': 0.2713553886055061, '16944': 0.2711188119190368, '01292': 0.29129302224118986}\n"
     ]
    }
   ],
   "source": [
    "# Question a\n",
    "weights = compute_weights(db)\n",
    "print(\"Question 1a, Weights\")\n",
    "print(\"Movie ID, weight\")\n",
    "for movie, freq in weights.items():\n",
    "    print(f\"{movie}, {freq}\")\n",
    "    \n",
    "ps = compute_p(db, auxes)\n"
   ]
  },
  {
   "cell_type": "code",
   "execution_count": 48,
   "metadata": {},
   "outputs": [],
   "source": [
    "# Question b\n",
    "similarity_scores = []\n",
    "for user, movies in db.items():    \n",
    "    movies_to_score = []\n",
    "    for id, aux in auxes.items():\n",
    "        p = ps.get(id)\n",
    "        weight = weights.get(id)\n",
    "        rating = movies.get(id)\n",
    "        movie = MovieInfo(\n",
    "            id=id, \n",
    "            aux=aux, \n",
    "            weight=weight, \n",
    "            rating=rating, \n",
    "            p=p\n",
    "        )\n",
    "        movies_to_score.append(movie)\n",
    "    #print(user)\n",
    "    similarity_scores.append((user, score(movies_to_score)))\n",
    "    \n",
    "    "
   ]
  },
  {
   "cell_type": "code",
   "execution_count": 49,
   "metadata": {},
   "outputs": [
    {
     "name": "stdout",
     "output_type": "stream",
     "text": [
      "\n",
      "Question 1b, top 5 similartity scores to aux\n",
      "User ID, score\n",
      "1664010, 0.26100839011711874\n",
      "2118461, 0.2369836223572406\n",
      "716173, 0.15853488799409274\n",
      "2238060, 0.15536814320167633\n",
      "16272, 0.14997099609163322\n"
     ]
    }
   ],
   "source": [
    "similarity_scores = sorted(similarity_scores, key = lambda x: x[1], reverse=True)\n",
    "print(\"\\nQuestion 1b, top 5 similartity scores to aux\")\n",
    "print(\"User ID, score\")\n",
    "for simscore in similarity_scores[:5]:\n",
    "    print(f\"{simscore[0]}, {simscore[1]}\")"
   ]
  },
  {
   "cell_type": "code",
   "execution_count": 50,
   "metadata": {},
   "outputs": [
    {
     "name": "stdout",
     "output_type": "stream",
     "text": [
      "\n",
      "Question 1c, Ratings of user with highest similarity score\n",
      "Movie ID, Top User Rating, AUX\n",
      "14199, 4, 4.5\n",
      "17113, 4, 4.2\n",
      "06315, 4, 4.0\n",
      "01292, 3, 3.3\n",
      "11977, 4, 4.2\n",
      "15267, 4, 4.2\n",
      "08191, 4, 3.8\n",
      "16944, 4, 4.2\n",
      "07242, 4, 3.9\n",
      "06004, 4, 3.9\n",
      "03768, 4, 3.5\n",
      "03124, 4, 3.5\n"
     ]
    }
   ],
   "source": [
    "print(\"\\nQuestion 1c, Ratings of user with highest similarity score\")\n",
    "print(\"Movie ID, Top User Rating, AUX\")\n",
    "for movie, aux in auxes.items():\n",
    "    print(f\"{movie}, {db.get(similarity_scores[0][0]).get(movie)}, {aux}\")"
   ]
  },
  {
   "cell_type": "code",
   "execution_count": 51,
   "metadata": {},
   "outputs": [
    {
     "name": "stdout",
     "output_type": "stream",
     "text": [
      "\n",
      "Question 1d\n",
      "a.\n",
      "if y is 0.1, M is 0.2778839027912863, the difference between highest and second highest similarity score is 0.024024767759878135. y*M is 0.02778839027912863. 0.024024767759878135 > 0.02778839027912863 is False\n",
      "b.\n",
      "if y is 0.05, M is 0.2778839027912863, the difference between highest and second highest similarity score is 0.024024767759878135. y*M is 0.013894195139564315. 0.024024767759878135 > 0.013894195139564315 is True\n"
     ]
    }
   ],
   "source": [
    "# Question 1d\n",
    "def calculate_M(weights, auxes):\n",
    "    supp=12\n",
    "    M=0\n",
    "    for movie_id, aux in auxes.items():\n",
    "        M = M + weights[movie_id]/12\n",
    "    return M\n",
    "\n",
    "M = calculate_M(weights, auxes)\n",
    "\n",
    "print(\"\\nQuestion 1d\")\n",
    "print(\"a.\")\n",
    "y = .1\n",
    "print(f\"if y is {y}, M is {M}, the difference between highest and second \"\n",
    "      f\"highest similarity score is {similarity_scores[0][1]-similarity_scores[1][1]}. \"\n",
    "     f\"y*M is {y*M}. {similarity_scores[0][1]-similarity_scores[1][1]} > {y*M} is\"\n",
    "     f\" {similarity_scores[0][1]-similarity_scores[1][1] > y*M}\")\n",
    "\n",
    "\n",
    "print(\"b.\")\n",
    "y = .05\n",
    "\n",
    "print(f\"if y is {y}, M is {M}, the difference between highest and second \"\n",
    "      f\"highest similarity score is {similarity_scores[0][1]-similarity_scores[1][1]}. \"\n",
    "     f\"y*M is {y*M}. {similarity_scores[0][1]-similarity_scores[1][1]} > {y*M} is\"\n",
    "     f\" {similarity_scores[0][1]-similarity_scores[1][1] > y*M}\")"
   ]
  }
 ],
 "metadata": {
  "kernelspec": {
   "display_name": "Python 3",
   "language": "python",
   "name": "python3"
  },
  "language_info": {
   "codemirror_mode": {
    "name": "ipython",
    "version": 3
   },
   "file_extension": ".py",
   "mimetype": "text/x-python",
   "name": "python",
   "nbconvert_exporter": "python",
   "pygments_lexer": "ipython3",
   "version": "3.7.8"
  }
 },
 "nbformat": 4,
 "nbformat_minor": 4
}
