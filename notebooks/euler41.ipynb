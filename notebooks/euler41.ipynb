{
 "cells": [
  {
   "cell_type": "code",
   "execution_count": 9,
   "metadata": {},
   "outputs": [],
   "source": [
    "def Esieve(limit):\n",
    "    a = [True] * limit\n",
    "    a[0] = a[1] = False\n",
    "\n",
    "    for (i, isprime) in enumerate(a):\n",
    "        if isprime:\n",
    "            yield i\n",
    "            for n in range(i*i, limit, i):     # Mark factors non-prime\n",
    "                a[n] = False\n",
    "    return a\n",
    "    \n",
    "    \n",
    "def is_pandigital(nr, n):\n",
    "    digits = ''.join(map(str, range(1, n + 1)))\n",
    "    nr = str(nr)\n",
    "    for i in digits:\n",
    "        if str(i) not in nr[0:9]:\n",
    "            return False\n",
    "        if str(i) not in nr[-9:]:\n",
    "            return False\n",
    "\n",
    "    return True\n",
    "\n"
   ]
  },
  {
   "cell_type": "code",
   "execution_count": 12,
   "metadata": {},
   "outputs": [
    {
     "name": "stdout",
     "output_type": "stream",
     "text": [
      "7652413\n"
     ]
    }
   ],
   "source": [
    "largest = 0\n",
    "for i in Esieve(1000000):\n",
    "    if is_pandigital(i, len(str(i))) and i>largest:\n",
    "        largest=i\n",
    "        \n",
    "print(largest)\n",
    "        "
   ]
  },
  {
   "cell_type": "code",
   "execution_count": 11,
   "metadata": {},
   "outputs": [
    {
     "name": "stdout",
     "output_type": "stream",
     "text": [
      "True\n"
     ]
    }
   ],
   "source": [
    "print(is_pandigital(12345,5))"
   ]
  },
  {
   "cell_type": "code",
   "execution_count": 77,
   "metadata": {},
   "outputs": [
    {
     "name": "stdout",
     "output_type": "stream",
     "text": [
      "1000000030324\n",
      "707106802629\n"
     ]
    }
   ],
   "source": [
    "import math\n",
    "\n",
    "found=False\n",
    "i= 10**12\n",
    "\n",
    "while not found:\n",
    "    #divisor_ceil=math.ceil(i/math.sqrt(2))\n",
    "    #divisor_floor = math.floor(i/math.sqrt(2))\n",
    "    #for divisor in range(divisor_floor, divisor_ceil):\n",
    "    divisor_ceil = math.ceil(i/math.sqrt(2))+1\n",
    "    divisor_floor = math.floor(i/math.sqrt(2))-30000\n",
    "\n",
    "    for divisor in range(divisor_floor, divisor_ceil):\n",
    "        if divisor/i * (divisor-1)/(i-1) == 1/2:\n",
    "            found=True\n",
    "            print(i)\n",
    "            print(divisor)\n",
    "    i=i+1"
   ]
  },
  {
   "cell_type": "code",
   "execution_count": 82,
   "metadata": {},
   "outputs": [
    {
     "ename": "SyntaxError",
     "evalue": "invalid syntax (<ipython-input-82-920330ceb546>, line 1)",
     "output_type": "error",
     "traceback": [
      "\u001b[0;36m  File \u001b[0;32m\"<ipython-input-82-920330ceb546>\"\u001b[0;36m, line \u001b[0;32m1\u001b[0m\n\u001b[0;31m    blue = long 707106802629\u001b[0m\n\u001b[0m                           ^\u001b[0m\n\u001b[0;31mSyntaxError\u001b[0m\u001b[0;31m:\u001b[0m invalid syntax\n"
     ]
    }
   ],
   "source": [
    "blue = 707106802629\n",
    "total = 1000000030324\n",
    "\n",
    "print((blue/total)*float((blue-1)/(total-1)))"
   ]
  },
  {
   "cell_type": "code",
   "execution_count": 35,
   "metadata": {},
   "outputs": [
    {
     "data": {
      "text/plain": [
       "12"
      ]
     },
     "execution_count": 35,
     "metadata": {},
     "output_type": "execute_result"
    }
   ],
   "source": [
    "len(\"707106802629\")"
   ]
  },
  {
   "cell_type": "code",
   "execution_count": null,
   "metadata": {},
   "outputs": [],
   "source": []
  }
 ],
 "metadata": {
  "kernelspec": {
   "display_name": "Python 3",
   "language": "python",
   "name": "python3"
  },
  "language_info": {
   "codemirror_mode": {
    "name": "ipython",
    "version": 3
   },
   "file_extension": ".py",
   "mimetype": "text/x-python",
   "name": "python",
   "nbconvert_exporter": "python",
   "pygments_lexer": "ipython3",
   "version": "3.6.8"
  }
 },
 "nbformat": 4,
 "nbformat_minor": 2
}
