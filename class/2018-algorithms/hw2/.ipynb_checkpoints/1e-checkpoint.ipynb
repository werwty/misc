{
 "cells": [
  {
   "cell_type": "code",
   "execution_count": null,
   "metadata": {},
   "outputs": [],
   "source": [
    "import sys\n",
    "import math"
   ]
  },
  {
   "cell_type": "code",
   "execution_count": null,
   "metadata": {},
   "outputs": [],
   "source": [
    "input1 = input()\n",
    "input2 = input()\n",
    "value, num_denom = [int(n) for n in input1.split()] #sys.argv[1].split()\n",
    "input2_values = [int(n) for n in input2.split()]#sys.argv[2].split()\n",
    "\n",
    "denominations = sorted(input2_values, reverse=True)"
   ]
  },
  {
   "cell_type": "code",
   "execution_count": null,
   "metadata": {},
   "outputs": [],
   "source": [
    "class Node(object):\n",
    "    def __init__(self, value, coins):\n",
    "        self.value = value\n",
    "        self.coins = coins\n",
    "        self.children = []\n",
    "\n",
    "    def add_child(self, obj):\n",
    "        self.children.append(obj)        \n",
    "    "
   ]
  },
  {
   "cell_type": "code",
   "execution_count": null,
   "metadata": {},
   "outputs": [],
   "source": [
    "least_coins=[]\n",
    "\n",
    "def makeChange(node):\n",
    "    global least_coins\n",
    "\n",
    "    # check if current coin collection is less than least_coins\n",
    "    if node.value==0:\n",
    "        if least_coins == []:\n",
    "            least_coins = node.coins\n",
    "        elif len(node.coins) < len(least_coins):\n",
    "            least_coins = node.coins\n",
    "            \n",
    "        # if we already have least coins, and this list is longer, don't bother\n",
    "        elif len(node.coins) > len(least_coins):\n",
    "            return node\n",
    "        \n",
    "    for denom in denominations:\n",
    "        #print(\"initial value {}, denom {}, coins {}\".format(node.value, denom, node.coins))\n",
    "        \n",
    "        # gotta copy that list\n",
    "        coins = node.coins[:]\n",
    "        coins.append(denom)\n",
    "        \n",
    "        # if the resulting value is below 0, don't continue\n",
    "        if node.value - denom < 0:\n",
    "            continue\n",
    "        # otherwise, recursive the heck out of it\n",
    "        child = makeChange(Node(node.value - denom, coins))\n",
    "        node.add_child(child)\n",
    "            \n",
    "    return node"
   ]
  },
  {
   "cell_type": "code",
   "execution_count": null,
   "metadata": {},
   "outputs": [],
   "source": [
    "root = Node(value=value, coins=[])\n",
    "\n",
    "tree = makeChange(root)\n",
    "print(len(least_coins))\n"
   ]
  },
  {
   "cell_type": "raw",
   "metadata": {},
   "source": []
  },
  {
   "cell_type": "code",
   "execution_count": null,
   "metadata": {},
   "outputs": [],
   "source": []
  }
 ],
 "metadata": {
  "kernelspec": {
   "display_name": "Python 3",
   "language": "python",
   "name": "python3"
  },
  "language_info": {
   "codemirror_mode": {
    "name": "ipython",
    "version": 3
   },
   "file_extension": ".py",
   "mimetype": "text/x-python",
   "name": "python",
   "nbconvert_exporter": "python",
   "pygments_lexer": "ipython3",
   "version": "3.6.6"
  }
 },
 "nbformat": 4,
 "nbformat_minor": 2
}
