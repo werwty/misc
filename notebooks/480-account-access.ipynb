{
 "cells": [
  {
   "cell_type": "markdown",
   "metadata": {},
   "source": [
    "## Overview\n",
    "\n",
    "It looks like there are two generally supported methods (and one that seems supported but I couldn't figure out) for granting third parties remote access to interact Azure.\n",
    "\n",
    "1. Generate a Service Management Certificate and give the customer a `.crt` file to upload to each subscription. This requires us to retain our corresponding `.pem` file and the subscription ID to which the certificate was uploaded.\n",
    "1. In the customer's Active Directory directory, register an application (service principal) and assign approprite roles for each subscription. This requires us to retain the following customer details:\n",
    "    - Tenant ID (or AD directory ID) for the customer's Azure account\n",
    "    - Client ID (the app ID (preferred) or app home URL) for the created service principal\n",
    "    - Secret (or password) for the created service principal\n",
    "1. The magical elusive multi-tenant application (service principal)...\n",
    "\n",
    "The Service Management Certificate solution in Azure's documentation [starts with a warning](https://docs.microsoft.com/en-us/azure/azure-api-management-certs), though, which suggests it may be too powerful, and I did not find any way of limiting its abilities:\n",
    "\n",
    "> Be careful! These types of certificates allow anyone who authenticates with them to manage the subscription they are associated with.\n",
    "\n",
    "I found that warning repeated in other places in the documentation, and that's probably a good indication that we should not be using it. Other examples I've read suggest that this is a legacy solution that can effectively be replaced by using an application (service principal). I am including its example usage below for completeness.\n",
    "\n",
    "Azure documentation implies in several places that you can configure an app to be multi-tenant, but after many failed attempts and documentation dead-ends, I have not yet been able to successfully configure an app in one tenant that can reach into another when working with the SDK. I am leaving that exercise out of this document with the hope that someone can figure it out in the future. Having a true multi-tenant application would be vastly superior (security-wise) to us retaining credentials into each of our customer's accounts.\n",
    "\n",
    "For what it's worth, though, I found one other company who offers automation services for Azure, and they require their customers to create an appliction (service principal) and they save the IDs and secret/password. Other integrations have apps published in the Azure Marketplace; perhaps that's what we need to do, but it requires submitting a Marketplace Nomination Form with a $99 registration fee. I'm not sure if that's right for us..."
   ]
  },
  {
   "cell_type": "markdown",
   "metadata": {},
   "source": [
    "## Using the Service Management Certificate\n",
    "\n",
    "Generate certificate files and upload the `.cer` file to the customer subscription.\n",
    "\n",
    "```\n",
    "openssl req -x509 -nodes -days 365 -newkey rsa:1024 -keyout mycert.pem -out mycert.pem\n",
    "openssl x509 -inform pem -in mycert.pem -outform der -out mycert.cer\n",
    "```\n",
    "\n",
    "More docs: [Certificates overview for Azure Cloud Services](https://docs.microsoft.com/en-us/azure/cloud-services/cloud-services-certs-create) and [Use service management from Python](https://docs.microsoft.com/en-us/azure/cloud-services/cloud-services-python-how-to-use-service-management)"
   ]
  },
  {
   "cell_type": "code",
   "execution_count": 7,
   "metadata": {},
   "outputs": [
    {
     "name": "stdout",
     "output_type": "stream",
     "text": [
      "['East US', 'West US', 'South Central US', 'Central US', 'North Central US', 'East US 2', 'North Europe', 'West Europe', 'Southeast Asia', 'East Asia', 'Japan West', 'Japan East', 'Brazil South', 'Australia Southeast', 'West US 2', 'West Central US', 'Australia East', 'Central India', 'South India', 'West India', 'Canada Central', 'Canada East', 'UK West', 'UK South', 'Korea Central', 'Korea South', 'France Central', 'France South']\n"
     ]
    }
   ],
   "source": [
    "from azure.servicemanagement import ServiceManagementService\n",
    "\n",
    "subscription_id = '31fd9fff-46e4-4bdf-8994-7ca536e34d3a'\n",
    "certificate_path = '/Users/brasmith/mycert.pem'\n",
    "\n",
    "sms = ServiceManagementService(subscription_id, certificate_path)\n",
    "\n",
    "result = sms.list_locations()\n",
    "print([location.name for location in result])"
   ]
  },
  {
   "cell_type": "markdown",
   "metadata": {},
   "source": [
    "## Using the Application/Service Principal"
   ]
  },
  {
   "cell_type": "markdown",
   "metadata": {},
   "source": [
    "The customer may set up the application (service principal) by following [these instructions using the web portal GUI](https://docs.microsoft.com/en-us/azure/azure-stack/azure-stack-create-service-principals) or [these instructions using the Azure CLI](https://docs.microsoft.com/en-us/cli/azure/create-an-azure-service-principal-azure-cli)."
   ]
  },
  {
   "cell_type": "code",
   "execution_count": 9,
   "metadata": {},
   "outputs": [
    {
     "name": "stdout",
     "output_type": "stream",
     "text": [
      "········\n",
      "{'authorization_source': 'RoleBased',\n",
      " 'display_name': 'Pay-As-You-Go',\n",
      " 'id': '/subscriptions/31fd9fff-46e4-4bdf-8994-7ca536e34d3a',\n",
      " 'state': 'Enabled',\n",
      " 'subscription_id': '31fd9fff-46e4-4bdf-8994-7ca536e34d3a',\n",
      " 'subscription_policies': {'location_placement_id': 'Public_2014-09-01',\n",
      "                           'quota_id': 'PayAsYouGo_2014-09-01',\n",
      "                           'spending_limit': 'Off'}}\n",
      "['eastasia', 'southeastasia', 'centralus', 'eastus', 'eastus2', 'westus', 'northcentralus', 'southcentralus', 'northeurope', 'westeurope', 'japanwest', 'japaneast', 'brazilsouth', 'australiaeast', 'australiasoutheast', 'southindia', 'centralindia', 'westindia', 'canadacentral', 'canadaeast', 'uksouth', 'ukwest', 'westcentralus', 'westus2', 'koreacentral', 'koreasouth', 'francecentral', 'francesouth', 'australiacentral', 'australiacentral2']\n"
     ]
    }
   ],
   "source": [
    "from getpass import getpass\n",
    "from pprint import pprint\n",
    "from azure.common.credentials import ServicePrincipalCredentials\n",
    "from azure.mgmt.subscription import SubscriptionClient\n",
    "\n",
    "subscription_id = '31fd9fff-46e4-4bdf-8994-7ca536e34d3a'\n",
    "tenant_id = '85fa570e-8b49-4eed-8bdf-3f3a72c89932'\n",
    "app_id = '416d0248-c33c-4401-95df-4c8e4052c610'\n",
    "secret = getpass()\n",
    "\n",
    "credentials = ServicePrincipalCredentials(\n",
    "    client_id=app_id,\n",
    "    secret=secret,\n",
    "    tenant=tenant_id\n",
    ")\n",
    "subscription_client = SubscriptionClient(credentials)\n",
    "subscription = subscription_client.subscriptions.get(subscription_id)\n",
    "pprint(subscription.as_dict())\n",
    "\n",
    "locations = subscription_client.subscriptions.list_locations(subscription_id)\n",
    "print([location.name for location in locations])"
   ]
  }
 ],
 "metadata": {
  "kernelspec": {
   "display_name": "Python 3",
   "language": "python",
   "name": "python3"
  },
  "language_info": {
   "codemirror_mode": {
    "name": "ipython",
    "version": 3
   },
   "file_extension": ".py",
   "mimetype": "text/x-python",
   "name": "python",
   "nbconvert_exporter": "python",
   "pygments_lexer": "ipython3",
   "version": "3.6.6"
  }
 },
 "nbformat": 4,
 "nbformat_minor": 2
}
