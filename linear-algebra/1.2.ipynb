{
 "cells": [
  {
   "cell_type": "markdown",
   "metadata": {},
   "source": [
    "1. u*v = (-.6*4)+(.8*3) =0\n",
    "\n",
    "   u*w = -.6+1.6 = 1\n",
    "   \n",
    "   u*(v+w) = -.6*(5) + .8(5) = 1\n",
    "   \n",
    "   w*v = 10\n",
    "      \n",
    "2. ||u|| = 3.6+6.4 = sqrt(10)\n",
    "\n",
    "   ||v|| = 16+9 = 5\n",
    "   \n",
    "   ||w|| = sqrt(5)\n",
    "   \n",
    "   shwartz inequiality holds:\n",
    "   \n",
    "   |u*v| < 5*sqrt(10)\n",
    "   \n",
    "   |v*w| < 5*sqrt(5)\n",
    "\n",
    "3. unit vector of v: (4/5, 3/5)\n",
    "\n",
    "unit vector of w: (1/sqrt(5), 2/sqrt(5))\n",
    "\n",
    "cos(theta) = "
   ]
  },
  {
   "cell_type": "markdown",
   "metadata": {},
   "source": [
    "30. Yes! for example three vectors would have to be 120 degrees apart, 4 vectors would not be possible since they would be 90 degrees apart and have a dot product of 0\n",
    "\n",
    "31. v = (1, 1, -2), w= (-2, 1, 1), v and w has the same length. the dot product calculates \n",
    "(x*z + y*x + z*y)/(x^2 + y^2 + z^2 + x^2 + y^2 + z^2)\n",
    "\n",
    "rewrite the nominator to be:\n",
    "\n",
    "1/2(x+y+z)^2\n",
    "\n",
    "= 1/2(x^2 + 2xy + 2xz + y^2 + 2yz + z^2) - 1/2(x^2+y^2+z^2)\n",
    "\n",
    "since we know that x+y+z = 0 \n",
    "\n",
    "\n",
    "\n",
    "\n",
    "x+y = -z \n",
    "\n",
    "z = -x-y\n",
    "y=-x-z\n",
    "\n",
    "\n",
    "rewrite the nominator to be\n",
    "\n",
    "(x+y)*z + y*x \n",
    "\n",
    "= -z*z + y*x\n",
    "\n",
    "x = -z-y\n",
    "\n",
    "= z*-z + (-z-y)*y \n",
    "\n",
    "= z*-z + (-y)*y -z*y\n",
    "\n",
    "\n",
    "\n",
    "33. + + - - as long as there are 2 pluses and 2 minuses\n",
    "\n",
    "34. "
   ]
  },
  {
   "cell_type": "code",
   "execution_count": null,
   "metadata": {},
   "outputs": [],
   "source": []
  },
  {
   "cell_type": "code",
   "execution_count": 1,
   "metadata": {},
   "outputs": [
    {
     "data": {
      "text/plain": [
       "4.440892098500626e-16"
      ]
     },
     "execution_count": 1,
     "metadata": {},
     "output_type": "execute_result"
    }
   ],
   "source": [
    "(-.6*4)+(.8*3)"
   ]
  },
  {
   "cell_type": "code",
   "execution_count": null,
   "metadata": {},
   "outputs": [],
   "source": []
  }
 ],
 "metadata": {
  "kernelspec": {
   "display_name": "Python 3",
   "language": "python",
   "name": "python3"
  },
  "language_info": {
   "codemirror_mode": {
    "name": "ipython",
    "version": 3
   },
   "file_extension": ".py",
   "mimetype": "text/x-python",
   "name": "python",
   "nbconvert_exporter": "python",
   "pygments_lexer": "ipython3",
   "version": "3.7.2"
  }
 },
 "nbformat": 4,
 "nbformat_minor": 2
}
