{
 "cells": [
  {
   "cell_type": "code",
   "execution_count": 58,
   "metadata": {},
   "outputs": [],
   "source": [
    "import csv\n",
    "\n",
    "import matplotlib.pyplot as plt\n",
    "from matplotlib_venn import venn3\n",
    "from pprint import pprint"
   ]
  },
  {
   "cell_type": "code",
   "execution_count": 46,
   "metadata": {},
   "outputs": [],
   "source": [
    "country_codes = {}\n",
    "relays = []\n",
    "with open('./Tor_query_EXPORT-1.csv', newline='') as csvfile:\n",
    "    reader = csv.DictReader(csvfile)\n",
    "    for row in reader:\n",
    "        country_code = row['Country Code']\n",
    "        if country_code not in country_codes:\n",
    "            country_codes[country_code] = 0\n",
    "        country_codes[country_code] += 1\n",
    "        \n",
    "        relay = {\n",
    "            'name': row['Router Name'],\n",
    "            'bandwidth': int(row['Bandwidth (KB/s)']),\n",
    "            'country_code': row['Country Code'],\n",
    "            'exit': bool(int(row['Flag - Exit'])),\n",
    "            'guard': bool(int(row['Flag - Guard'])), \n",
    "            'middle': not bool(int(row['Flag - Exit'])) and not bool(int(row['Flag - Guard']))\n",
    "        }\n",
    "        relays.append(relay)"
   ]
  },
  {
   "cell_type": "code",
   "execution_count": 47,
   "metadata": {},
   "outputs": [
    {
     "name": "stdout",
     "output_type": "stream",
     "text": [
      "Top 5 Countries hosting tor relays\n",
      "[('DE', 1292), ('US', 1179), ('FR', 823), ('NL', 352), ('CA', 292)]\n"
     ]
    }
   ],
   "source": [
    "sorted_country_codes = sorted(country_codes.items(), key=lambda x: x[1], reverse=True)\n",
    "print(\"Top 5 Countries hosting tor relays\")\n",
    "print(sorted_country_codes[:5])"
   ]
  },
  {
   "cell_type": "code",
   "execution_count": 59,
   "metadata": {},
   "outputs": [
    {
     "name": "stdout",
     "output_type": "stream",
     "text": [
      "Top 5 Bandwidth contributing relays\n",
      "[{'bandwidth': 117100,\n",
      "  'country_code': 'US',\n",
      "  'exit': True,\n",
      "  'guard': True,\n",
      "  'middle': False,\n",
      "  'name': 'CalyxInstitute03'},\n",
      " {'bandwidth': 100409,\n",
      "  'country_code': 'UA',\n",
      "  'exit': True,\n",
      "  'guard': True,\n",
      "  'middle': False,\n",
      "  'name': 'PinkiePieParty'},\n",
      " {'bandwidth': 86850,\n",
      "  'country_code': 'FR',\n",
      "  'exit': False,\n",
      "  'guard': True,\n",
      "  'middle': False,\n",
      "  'name': 'Unnamed'},\n",
      " {'bandwidth': 80597,\n",
      "  'country_code': 'FR',\n",
      "  'exit': False,\n",
      "  'guard': True,\n",
      "  'middle': False,\n",
      "  'name': 'Unnamed'},\n",
      " {'bandwidth': 78916,\n",
      "  'country_code': 'FR',\n",
      "  'exit': False,\n",
      "  'guard': True,\n",
      "  'middle': False,\n",
      "  'name': 'Unnamed'}]\n"
     ]
    }
   ],
   "source": [
    "sorted_relays = sorted(relays, key=lambda x: x['bandwidth'], reverse=True)\n",
    "print(\"Top 5 Bandwidth contributing relays\")\n",
    "pprint(sorted_relays[:5])"
   ]
  },
  {
   "cell_type": "code",
   "execution_count": 55,
   "metadata": {},
   "outputs": [],
   "source": [
    "guard =0 \n",
    "guard_bandwidth = 0\n",
    "exit =0\n",
    "exit_bandwidth =0 \n",
    "exit_guard = 0\n",
    "exit_guard_bandwidth =0 \n",
    "middle =0 \n",
    "middle_bandwidth =0 \n",
    "for relay in relays:\n",
    "    if relay['exit'] and relay['guard']:\n",
    "        exit_guard +=1\n",
    "        exit_guard_bandwidth += relay['bandwidth']\n",
    "    elif relay['exit']:\n",
    "        exit+=1\n",
    "        exit_bandwidth += relay['bandwidth']\n",
    "    elif relay['guard']:\n",
    "        guard+=1\n",
    "        guard_bandwidth += relay['bandwidth']\n",
    "\n",
    "    elif relay['middle']:\n",
    "        middle+=1\n",
    "        middle_bandwidth += relay['bandwidth']"
   ]
  },
  {
   "cell_type": "code",
   "execution_count": 56,
   "metadata": {},
   "outputs": [
    {
     "name": "stdout",
     "output_type": "stream",
     "text": [
      "Number of relays\n"
     ]
    },
    {
     "data": {
      "image/png": "[encoded data removed]",
      "text/plain": [
       "<Figure size 432x288 with 1 Axes>"
      ]
     },
     "metadata": {},
     "output_type": "display_data"
    }
   ],
   "source": [
    "print(\"Number of relays\")\n",
    "v=venn3(subsets = (exit, guard, exit_guard, middle,0,0,0), set_labels = ('Exit', 'Guard', 'Middle'))\n",
    "plt.show()\n"
   ]
  },
  {
   "cell_type": "code",
   "execution_count": 57,
   "metadata": {},
   "outputs": [
    {
     "name": "stdout",
     "output_type": "stream",
     "text": [
      "Bandwidth of relays\n"
     ]
    },
    {
     "data": {
      "image/png": "[encoded data removed]",
      "text/plain": [
       "<Figure size 432x288 with 1 Axes>"
      ]
     },
     "metadata": {},
     "output_type": "display_data"
    }
   ],
   "source": [
    "print(\"Bandwidth of relays\")\n",
    "v=venn3(subsets = (exit_bandwidth, guard_bandwidth, exit_guard_bandwidth, middle_bandwidth,0,0,0), set_labels = ('Exit', 'Guard', 'Middle'))\n",
    "plt.show()\n"
   ]
  },
  {
   "cell_type": "code",
   "execution_count": null,
   "metadata": {},
   "outputs": [],
   "source": []
  }
 ],
 "metadata": {
  "kernelspec": {
   "display_name": "Python 3",
   "language": "python",
   "name": "python3"
  },
  "language_info": {
   "codemirror_mode": {
    "name": "ipython",
    "version": 3
   },
   "file_extension": ".py",
   "mimetype": "text/x-python",
   "name": "python",
   "nbconvert_exporter": "python",
   "pygments_lexer": "ipython3",
   "version": "3.7.9"
  }
 },
 "nbformat": 4,
 "nbformat_minor": 4
}
