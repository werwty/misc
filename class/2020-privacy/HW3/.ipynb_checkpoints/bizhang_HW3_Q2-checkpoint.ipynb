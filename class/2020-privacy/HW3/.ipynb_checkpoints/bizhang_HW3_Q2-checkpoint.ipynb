{
 "cells": [
  {
   "cell_type": "code",
   "execution_count": 1,
   "metadata": {},
   "outputs": [],
   "source": [
    "\n",
    "import argparse\n",
    "import json\n",
    "from urllib.parse import urlparse\n",
    "from tld import get_fld\n",
    "from matplotlib_venn import venn2\n",
    "\n"
   ]
  },
  {
   "cell_type": "code",
   "execution_count": 2,
   "metadata": {},
   "outputs": [],
   "source": [
    "# Code is from https://gist.github.com/tomatohater/8853161\n",
    "def parse_har(harfile_path):\n",
    "    \"\"\"Reads a har file from the filesystem, converts to CSV, then dumps to\n",
    "    stdout.\n",
    "    \"\"\"\n",
    "    urls = []\n",
    "    harfile = open(harfile_path)\n",
    "    harfile_json = json.loads(harfile.read())\n",
    "    i = 0\n",
    "\n",
    "    for entry in harfile_json['log']['entries']:\n",
    "        i = i + 1\n",
    "        url = entry['request']['url']\n",
    "        urlparts = urlparse(entry['request']['url'])\n",
    "        size_bytes = entry['response']['bodySize']\n",
    "        size_kilobytes = float(entry['response']['bodySize'])/1024\n",
    "        mimetype = 'unknown'\n",
    "        if 'mimeType' in entry['response']['content']:\n",
    "            mimetype = entry['response']['content']['mimeType']\n",
    "        urls.append(url)\n",
    "        #print(f\"{i}, {url}, {urlparts.hostname}, {size_bytes}\")\n",
    "    return urls"
   ]
  },
  {
   "cell_type": "code",
   "execution_count": 3,
   "metadata": {},
   "outputs": [],
   "source": [
    "def get_domains(harfile_path, first_party_domains):\n",
    "    urls = parse_har(harfile_path)\n",
    "    domains = set()\n",
    "    for url in urls:\n",
    "        try:\n",
    "            domain = get_fld(url)\n",
    "            if domain not in first_party_domains:\n",
    "                domains.add(domain)\n",
    "        except Exception as e:\n",
    "            print(f\"invalid domain in {url}\")\n",
    "    return domains"
   ]
  },
  {
   "cell_type": "code",
   "execution_count": 39,
   "metadata": {},
   "outputs": [
    {
     "name": "stdout",
     "output_type": "stream",
     "text": [
      "Get Thrid Party Domains for CNN\n",
      "invalid domain in https://todo/?google_gid=CAESECD2O5xN3IZm4NHYL1az6ek&google_cver=1&google_push=AeyLB5c6ogjcdHvaAWC4o_iMmkq40-60yoAsz03koX6iroBLlxgzqJZV31BTJ4nlpedPWGjVgN1j-xohR4NRYH1NO00fviA6Deim\n",
      "{'adsrvr.org', 'atdmt.com', 'adhigh.net', 'appier.net', 'bleacherreport.net', 'ugdturner.com', 'casalemedia.com', 'turner.com', 'summerhamster.com', 'resetdigital.co', 'bootstrapcdn.com', 'twitter.com', 'iasds01.com', 'dotomi.com', 'emxdgt.com', 'bounceexchange.com', 'turn.com', 'eyeota.net', 'zemanta.com', 'quantserve.com', 'optimizely.com', 'truste.com', 'bouncex.net', 'doubleclick.net', 'criteo.com', 'jsdelivr.net', 'adsymptotic.com', 'segment.io', 'mfadsrvr.com', 'bidtheatre.com', 'yieldoptimizer.com', 'gumgum.com', 'crwdcntrl.net', 'powerlinks.com', 'exelator.com', 'gwallet.com', 'outbrainimg.com', 'brealtime.com', 'segment.com', 'indexww.com', 'boomtrain.com', 'imrworldwide.com', 'im-apps.net', 'amazon-adsystem.com', 'bing.com', 'google-analytics.com', 'geistm.com', 'trustx.org', 'creativecdn.com', 'tribalfusion.com', 'cookielaw.org', 'adnxs.com', '1rx.io', 'bluekai.com', 'yahoo.com', 'advertising.com', 'd9t9vcvz5fqud.cloudfront.net', 'tapad.com', 'everesttech.net', 'videohub.tv', 'owneriq.net', 'serverbid.com', 'facebook.com', 'flashtalking.com', 'technoratimedia.com', 'googletagservices.com', 'adswizz.com', 'chartbeat.net', 'w55c.net', 'criteo.net', 'scorecardresearch.com', 'fwmrm.net', 'rkdms.com', 'tidaltv.com', 'addthis.com', 'adgrx.com', 'rundsp.com', 'socdm.com', 'krxd.net', 'acuityplatform.com', 'ipredictive.com', 'behave.com', 'pubmatic.com', 'gstatic.com', 'googletagmanager.com', 'cloudflare.com', 'chartbeat.com', 'media.net', 'netmng.com', 'sharedid.org', 't.co', 'navdmp.com', 'mxptint.net', 'google.com', 'adition.com', 'adsafeprotected.com', 'truoptik.com', 'contextweb.com', 'impdesk.com', 'rlcdn.com', 'mathtag.com', 'sitescout.com', 'adform.net', 'spotxchange.com', 'onetrust.com', 'eyereturn.com', 'usabilla.com', '3lift.com', 'trustarc.com', 'taboola.com', 'adentifi.com', 'agkn.com', 'rubiconproject.com', 'ads-twitter.com', 'beemray.com', 'fonts.googleapis.com', 'outbrain.com', 'bidr.io', 'zorosrv.com', 'bttrack.com', 'demdex.net', 'yieldmo.com', 'simpli.fi', '2mdn.net', 'googlesyndication.com', 'tree.com', 'facebook.net', 'dyntrk.com', 'smartadserver.com', 'moatads.com', 'tru.am', 'bidswitch.net', 'lendingtree.com'}\n",
      "CNN has 133 third part domains\n",
      "\n",
      "Get Thrid Party Domains for Macys\n",
      "{'kampyle.com', 'pinimg.com', 'krxd.net', 'medallia.com', 'hlserve.com', 'taboola.com', 'bing.com', 'google-analytics.com', 'casalemedia.com', 'agkn.com', 'digitru.st', 'ibmcloud.com', 'adnxs.com', 'rubiconproject.com', 'ads-twitter.com', 'twitter.com', 'pubmatic.com', 'bluekai.com', 'narrativ.com', 'yahoo.com', 'reson8.com', 'tiqcdn.com', 'omtrdc.net', 'everesttech.net', 'storetail.net', 'tapad.com', 'openx.net', 'akstat.io', 'googletagmanager.com', 'outbrain.com', 'owneriq.net', 'demdex.net', 'doubleclick.net', 'akamaihd.net', 'rmtag.com', 'criteo.com', 't.co', 'facebook.com', 'd1n00d49gkbray.cloudfront.net', 'bam-x.com', 'linksynergy.com', 'facebook.net', 'contextweb.com', 'google.com', 'smarterhq.io', 'go-mpulse.net', 'rlcdn.com', 'macysassets.com', 'yimg.com', 'mathtag.com', 'criteo.net', 'pinterest.com', 'bidswitch.net', 'adform.net'}\n",
      "Macys has 54 third part domains\n"
     ]
    }
   ],
   "source": [
    "print(\"Get Thrid Party Domains for CNN\")\n",
    "cnn_domains = get_domains('./www.cnn.com.har', [\"cnn.com\", \"cnn.io\"])\n",
    "print(cnn_domains)\n",
    "print(f\"CNN has {len(cnn_domains)} third part domains\\n\")\n",
    "\n",
    "\n",
    "print(\"Get Thrid Party Domains for Macys\")\n",
    "macys_domains = get_domains('./www.macys.com.har', [\"macys.com\"])\n",
    "print(macys_domains)\n",
    "print(f\"Macys has {len(macys_domains)} third part domains\")\n",
    "\n",
    "\n",
    "\n",
    "v = venn2(cnn_domain, macys_domains)\n",
    "\n",
    "labels = ['CNN Domains', '']"
   ]
  },
  {
   "cell_type": "code",
   "execution_count": null,
   "metadata": {},
   "outputs": [],
   "source": []
  }
 ],
 "metadata": {
  "kernelspec": {
   "display_name": "Python 3",
   "language": "python",
   "name": "python3"
  },
  "language_info": {
   "codemirror_mode": {
    "name": "ipython",
    "version": 3
   },
   "file_extension": ".py",
   "mimetype": "text/x-python",
   "name": "python",
   "nbconvert_exporter": "python",
   "pygments_lexer": "ipython3",
   "version": "3.7.9"
  }
 },
 "nbformat": 4,
 "nbformat_minor": 4
}
