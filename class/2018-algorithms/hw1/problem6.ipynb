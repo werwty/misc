{
 "cells": [
  {
   "cell_type": "code",
   "execution_count": 12,
   "metadata": {},
   "outputs": [
    {
     "name": "stdout",
     "output_type": "stream",
     "text": [
      "1st loop, e is 2.0, x is 9, y is 3.\n",
      "2st loop, e is 1.0, x is 81, y is 3.\n",
      "return value is 243\n"
     ]
    }
   ],
   "source": [
    "a=14\n",
    "n=150\n",
    "\n",
    "x=3\n",
    "e=5\n",
    "y=1\n",
    "\n",
    "loop =0 \n",
    "while e>1:\n",
    "    if e%2==0:\n",
    "        x=x*x\n",
    "        e=e/2\n",
    "    else:\n",
    "        y=x*y\n",
    "        x=x*x\n",
    "        e=(e-1)/2\n",
    "        \n",
    "    loop = loop+1\n",
    "    print(\"{}st loop, e is {}, x is {}, y is {}.\".format(loop, e, x, y))\n",
    "\n",
    "print(\"return value is {}\".format(x*y))"
   ]
  },
  {
   "cell_type": "code",
   "execution_count": 14,
   "metadata": {},
   "outputs": [
    {
     "data": {
      "text/plain": [
       "[1, 2]"
      ]
     },
     "execution_count": 14,
     "metadata": {},
     "output_type": "execute_result"
    }
   ],
   "source": [
    "list(range(1,3))"
   ]
  },
  {
   "cell_type": "code",
   "execution_count": 8,
   "metadata": {},
   "outputs": [
    {
     "data": {
      "text/plain": [
       "678223072849"
      ]
     },
     "execution_count": 8,
     "metadata": {},
     "output_type": "execute_result"
    }
   ],
   "source": [
    "7**14"
   ]
  },
  {
   "cell_type": "code",
   "execution_count": null,
   "metadata": {},
   "outputs": [],
   "source": []
  },
  {
   "cell_type": "code",
   "execution_count": null,
   "metadata": {},
   "outputs": [],
   "source": []
  },
  {
   "cell_type": "code",
   "execution_count": null,
   "metadata": {},
   "outputs": [],
   "source": []
  },
  {
   "cell_type": "code",
   "execution_count": null,
   "metadata": {},
   "outputs": [],
   "source": []
  }
 ],
 "metadata": {
  "kernelspec": {
   "display_name": "Python 3",
   "language": "python",
   "name": "python3"
  },
  "language_info": {
   "codemirror_mode": {
    "name": "ipython",
    "version": 3
   },
   "file_extension": ".py",
   "mimetype": "text/x-python",
   "name": "python",
   "nbconvert_exporter": "python",
   "pygments_lexer": "ipython3",
   "version": "3.6.6"
  }
 },
 "nbformat": 4,
 "nbformat_minor": 2
}
