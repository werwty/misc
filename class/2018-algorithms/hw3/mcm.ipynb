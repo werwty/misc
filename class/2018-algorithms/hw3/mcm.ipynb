{
 "cells": [
  {
   "cell_type": "markdown",
   "metadata": {},
   "source": [
    "Homework 3: MCM\n",
    "Given a chain of n matrices, find the optimal order to multiply them. In other words, fully parenthesize the product in a way that minimizes the number of scalar multiplications.\n",
    "\n",
    "Input\n",
    "The first line of input contains the number of matrices n (1<=n<=100). The next line contains a space separated sequence of integers representing their dimensions: p0, p1, ... pn (1<=pi<=100). Here, pi-1 * pi is the dimension of the ith matrix.\n",
    "\n",
    "Output\n",
    "Your program should print two lines. In the first line, output the minimum number of scalar multiplications required to compute the matrix chain product. In the second line, output the corresponding optimal parenthesization: use an integer i to denote the ith matrix in the sequence. Do not forget to print a newline, '\\n', after the parenthesization. See the sample test cases for more details.\n",
    "\n",
    "Note: none of our test cases has more than one optimal parenthesization.\n"
   ]
  },
  {
   "cell_type": "code",
   "execution_count": 81,
   "metadata": {},
   "outputs": [
    {
     "name": "stdout",
     "output_type": "stream",
     "text": [
      "3\n",
      "10 20 30 40\n"
     ]
    }
   ],
   "source": [
    "# number of matrices\n",
    "n = int(input())\n",
    "\n",
    "# space separated sequence, representing dimensions\n",
    "input2 = input()\n",
    "dimensions = [int(n) for n in input2.split()]"
   ]
  },
  {
   "cell_type": "code",
   "execution_count": 121,
   "metadata": {},
   "outputs": [],
   "source": [
    "def multiply_matrixes(n, dimensions):\n",
    "    matrix = [[None for i in range(n)] for i in range(n)]\n",
    "    s = [[None for i in range(n)] for i in range(n)]\n",
    "    \n",
    "    for i in range(1,n):\n",
    "        matrix[i][i]=0\n",
    "        \n",
    "    for l in range (2, n):\n",
    "        for i in range(1, n-l+1):\n",
    "            j = i + l -1\n",
    "            matrix[i][j] = float(\"inf\")\n",
    "            \n",
    "            for k in range(i, j):\n",
    "                q = matrix[i][k] + matrix[k+1][j] + dimensions[i-1]*dimensions[k]*dimensions[j]\n",
    "                \n",
    "                if q < matrix[i][j]:\n",
    "                    matrix[i][j] = q\n",
    "                    s[i][j] = k\n",
    "    return s, matrix\n",
    "\n",
    "def print_optimal_parens(s, i, j):\n",
    "    if i==j:\n",
    "        print(i, end=\"\")\n",
    "    else:\n",
    "        print('(', end=\"\")\n",
    "        print_optimal_parens(s, i, s[i][j]) \n",
    "        print_optimal_parens(s, s[i][j]+1, j) \n",
    "        print(')', end=\"\")\n",
    "\n"
   ]
  },
  {
   "cell_type": "code",
   "execution_count": 122,
   "metadata": {},
   "outputs": [
    {
     "name": "stdout",
     "output_type": "stream",
     "text": [
      "18000\n",
      "((12)3)\n"
     ]
    }
   ],
   "source": [
    "s, matrix = multiply_matrixes(n+1, dimensions)\n",
    "\n",
    "print(matrix[1][n])\n",
    "\n",
    "print_optimal_parens(s, 1, n)\n",
    "print('\\n', end=\"\")\n"
   ]
  },
  {
   "cell_type": "raw",
   "metadata": {},
   "source": []
  },
  {
   "cell_type": "code",
   "execution_count": 144,
   "metadata": {},
   "outputs": [],
   "source": [
    "def MPSP(X):\n",
    "    # X is the input string\n",
    "    # Create an 2d array l of size len(X) by len(X), each l[i][j] \n",
    "    # will store the longest palindrome in X[i...j]\n",
    "    l = [[0 for i in range(len(X))] for i in range(len(X))]\n",
    "    \n",
    "    # initialized l[i][i] with 1s, since each letter is a palindrome of length 1\n",
    "    for i in range(len(X)):\n",
    "        l[i][i]=1\n",
    "\n",
    "    for s in range(1, len(X)):\n",
    "        for i in range(len(X)-s):         \n",
    "            j= i+s\n",
    "            if X[i] == X[j]:\n",
    "                l[i][j] = l[i+1][j-1]+2\n",
    "            else:\n",
    "                l[i][j] = max(l[i+1][j], l[i][j-1])\n",
    "            for a in l:\n",
    "                print(*a)\n",
    "            print()\n",
    "    return l[0][len(X)-1]"
   ]
  },
  {
   "cell_type": "code",
   "execution_count": 146,
   "metadata": {},
   "outputs": [
    {
     "name": "stdout",
     "output_type": "stream",
     "text": [
      "1 1 0 0 0 0\n",
      "0 1 0 0 0 0\n",
      "0 0 1 0 0 0\n",
      "0 0 0 1 0 0\n",
      "0 0 0 0 1 0\n",
      "0 0 0 0 0 1\n",
      "\n",
      "1 1 0 0 0 0\n",
      "0 1 1 0 0 0\n",
      "0 0 1 0 0 0\n",
      "0 0 0 1 0 0\n",
      "0 0 0 0 1 0\n",
      "0 0 0 0 0 1\n",
      "\n",
      "1 1 0 0 0 0\n",
      "0 1 1 0 0 0\n",
      "0 0 1 1 0 0\n",
      "0 0 0 1 0 0\n",
      "0 0 0 0 1 0\n",
      "0 0 0 0 0 1\n",
      "\n",
      "1 1 0 0 0 0\n",
      "0 1 1 0 0 0\n",
      "0 0 1 1 0 0\n",
      "0 0 0 1 1 0\n",
      "0 0 0 0 1 0\n",
      "0 0 0 0 0 1\n",
      "\n",
      "1 1 0 0 0 0\n",
      "0 1 1 0 0 0\n",
      "0 0 1 1 0 0\n",
      "0 0 0 1 1 0\n",
      "0 0 0 0 1 1\n",
      "0 0 0 0 0 1\n",
      "\n",
      "1 1 1 0 0 0\n",
      "0 1 1 0 0 0\n",
      "0 0 1 1 0 0\n",
      "0 0 0 1 1 0\n",
      "0 0 0 0 1 1\n",
      "0 0 0 0 0 1\n",
      "\n",
      "1 1 1 0 0 0\n",
      "0 1 1 1 0 0\n",
      "0 0 1 1 0 0\n",
      "0 0 0 1 1 0\n",
      "0 0 0 0 1 1\n",
      "0 0 0 0 0 1\n",
      "\n",
      "1 1 1 0 0 0\n",
      "0 1 1 1 0 0\n",
      "0 0 1 1 3 0\n",
      "0 0 0 1 1 0\n",
      "0 0 0 0 1 1\n",
      "0 0 0 0 0 1\n",
      "\n",
      "1 1 1 0 0 0\n",
      "0 1 1 1 0 0\n",
      "0 0 1 1 3 0\n",
      "0 0 0 1 1 1\n",
      "0 0 0 0 1 1\n",
      "0 0 0 0 0 1\n",
      "\n",
      "1 1 1 1 0 0\n",
      "0 1 1 1 0 0\n",
      "0 0 1 1 3 0\n",
      "0 0 0 1 1 1\n",
      "0 0 0 0 1 1\n",
      "0 0 0 0 0 1\n",
      "\n",
      "1 1 1 1 0 0\n",
      "0 1 1 1 3 0\n",
      "0 0 1 1 3 0\n",
      "0 0 0 1 1 1\n",
      "0 0 0 0 1 1\n",
      "0 0 0 0 0 1\n",
      "\n",
      "1 1 1 1 0 0\n",
      "0 1 1 1 3 0\n",
      "0 0 1 1 3 3\n",
      "0 0 0 1 1 1\n",
      "0 0 0 0 1 1\n",
      "0 0 0 0 0 1\n",
      "\n",
      "1 1 1 1 3 0\n",
      "0 1 1 1 3 0\n",
      "0 0 1 1 3 3\n",
      "0 0 0 1 1 1\n",
      "0 0 0 0 1 1\n",
      "0 0 0 0 0 1\n",
      "\n",
      "1 1 1 1 3 0\n",
      "0 1 1 1 3 3\n",
      "0 0 1 1 3 3\n",
      "0 0 0 1 1 1\n",
      "0 0 0 0 1 1\n",
      "0 0 0 0 0 1\n",
      "\n",
      "1 1 1 1 3 5\n",
      "0 1 1 1 3 3\n",
      "0 0 1 1 3 3\n",
      "0 0 0 1 1 1\n",
      "0 0 0 0 1 1\n",
      "0 0 0 0 0 1\n",
      "\n"
     ]
    },
    {
     "ename": "TypeError",
     "evalue": "'module' object is not callable",
     "output_type": "error",
     "traceback": [
      "\u001b[0;31m---------------------------------------------------------------------------\u001b[0m",
      "\u001b[0;31mTypeError\u001b[0m                                 Traceback (most recent call last)",
      "\u001b[0;32m<ipython-input-146-71802552bee5>\u001b[0m in \u001b[0;36m<module>\u001b[0;34m()\u001b[0m\n\u001b[1;32m      1\u001b[0m \u001b[0;32mimport\u001b[0m \u001b[0mpprint\u001b[0m\u001b[0;34m\u001b[0m\u001b[0m\n\u001b[0;32m----> 2\u001b[0;31m \u001b[0mpprint\u001b[0m\u001b[0;34m(\u001b[0m\u001b[0mMPSP\u001b[0m\u001b[0;34m(\u001b[0m\u001b[0;34m'asdfda'\u001b[0m\u001b[0;34m)\u001b[0m\u001b[0;34m)\u001b[0m\u001b[0;34m\u001b[0m\u001b[0m\n\u001b[0m",
      "\u001b[0;31mTypeError\u001b[0m: 'module' object is not callable"
     ]
    }
   ],
   "source": [
    "import pprint\n",
    "pprint(MPSP('asdfda'))"
   ]
  },
  {
   "cell_type": "code",
   "execution_count": 136,
   "metadata": {},
   "outputs": [],
   "source": [
    "\n",
    "# A Dynamic Programming based Python program for LPS problem \n",
    "# Returns the length of the longest palindromic subsequence in seq \n",
    "def lps(str): \n",
    "    n = len(str) \n",
    "  \n",
    "    # Create a table to store results of subproblems \n",
    "    L = [[0 for x in range(n)] for x in range(n)] \n",
    "  \n",
    "    # Strings of length 1 are palindrome of length 1 \n",
    "    for i in range(n): \n",
    "        L[i][i] = 1\n",
    "  \n",
    "    # Build the table. Note that the lower diagonal values of table are \n",
    "    # useless and not filled in the process. The values are filled in a \n",
    "    # manner similar to Matrix Chain Multiplication DP solution (See \n",
    "    # https://www.geeksforgeeks.org/dynamic-programming-set-8-matrix-chain-multiplication/ \n",
    "    # cl is length of substring \n",
    "    for cl in range(2, n+1): \n",
    "        for i in range(n-cl+1): \n",
    "            j = i+cl-1\n",
    "            if str[i] == str[j] and cl == 2: \n",
    "                L[i][j] = 2\n",
    "            elif str[i] == str[j]: \n",
    "                L[i][j] = L[i+1][j-1] + 2\n",
    "            else: \n",
    "                L[i][j] = max(L[i][j-1], L[i+1][j]); \n",
    "    print(L)\n",
    "    return L[0][n-1] "
   ]
  },
  {
   "cell_type": "code",
   "execution_count": 74,
   "metadata": {},
   "outputs": [
    {
     "name": "stdout",
     "output_type": "stream",
     "text": [
      "[[1, 1, 1, 3, 5], [0, 1, 1, 3, 3], [0, 0, 1, 1, 1], [0, 0, 0, 1, 1], [0, 0, 0, 0, 1]]\n"
     ]
    },
    {
     "data": {
      "text/plain": [
       "5"
      ]
     },
     "execution_count": 74,
     "metadata": {},
     "output_type": "execute_result"
    }
   ],
   "source": [
    "lps('abcba')"
   ]
  },
  {
   "cell_type": "code",
   "execution_count": null,
   "metadata": {},
   "outputs": [],
   "source": [
    "def place_towers(d, x):\n",
    "    y[0] = x[0] + d\n",
    "    j=0\n",
    "    \n",
    "    for i in range(2,len(x)):\n",
    "        if x[i]-y[j] > d:\n",
    "            j+=1\n",
    "            y[j] = x[i]+d"
   ]
  }
 ],
 "metadata": {
  "kernelspec": {
   "display_name": "Python 3",
   "language": "python",
   "name": "python3"
  },
  "language_info": {
   "codemirror_mode": {
    "name": "ipython",
    "version": 3
   },
   "file_extension": ".py",
   "mimetype": "text/x-python",
   "name": "python",
   "nbconvert_exporter": "python",
   "pygments_lexer": "ipython3",
   "version": "3.6.6"
  }
 },
 "nbformat": 4,
 "nbformat_minor": 2
}
