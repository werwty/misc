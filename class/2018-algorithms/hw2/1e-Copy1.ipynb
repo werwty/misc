{
 "cells": [
  {
   "cell_type": "code",
   "execution_count": 3,
   "metadata": {},
   "outputs": [],
   "source": [
    "import sys\n",
    "import math"
   ]
  },
  {
   "cell_type": "code",
   "execution_count": 4,
   "metadata": {},
   "outputs": [
    {
     "name": "stdout",
     "output_type": "stream",
     "text": [
      "12 2\n",
      "1 6\n"
     ]
    }
   ],
   "source": [
    "input1 = input()\n",
    "input2 = input()\n",
    "value, num_denom = [int(n) for n in input1.split()] #sys.argv[1].split()\n",
    "input2_values = [int(n) for n in input2.split()]#sys.argv[2].split()\n",
    "\n",
    "denominations = sorted(input2_values, reverse=True)"
   ]
  },
  {
   "cell_type": "code",
   "execution_count": 5,
   "metadata": {},
   "outputs": [],
   "source": [
    "def makeChange(denoms, value):\n",
    "\n",
    "    # initialize array with infinity for all values\n",
    "    dynamic_array = [float(\"inf\") for i in range(0, value+1)]\n",
    "    # except for the first value, 0.\n",
    "    dynamic_array[0] = 0\n",
    "    \n",
    "    for i in range(1, value+1):\n",
    "        for j in range(0, len(denoms)):\n",
    "            print(dynamic_array)\n",
    "            if (denoms[j] <= i):\n",
    "                a = dynamic_array[i-denoms[j]]\n",
    "                if a < float(\"inf\") and a + 1 < dynamic_array[i]:\n",
    "                    dynamic_array[i]= a + 1\n",
    "               \n",
    "    return dynamic_array[value]; \n"
   ]
  },
  {
   "cell_type": "code",
   "execution_count": 6,
   "metadata": {},
   "outputs": [
    {
     "name": "stdout",
     "output_type": "stream",
     "text": [
      "[0, inf, inf, inf, inf, inf, inf, inf, inf, inf, inf, inf, inf]\n",
      "[0, inf, inf, inf, inf, inf, inf, inf, inf, inf, inf, inf, inf]\n",
      "[0, 1, inf, inf, inf, inf, inf, inf, inf, inf, inf, inf, inf]\n",
      "[0, 1, inf, inf, inf, inf, inf, inf, inf, inf, inf, inf, inf]\n",
      "[0, 1, 2, inf, inf, inf, inf, inf, inf, inf, inf, inf, inf]\n",
      "[0, 1, 2, inf, inf, inf, inf, inf, inf, inf, inf, inf, inf]\n",
      "[0, 1, 2, 3, inf, inf, inf, inf, inf, inf, inf, inf, inf]\n",
      "[0, 1, 2, 3, inf, inf, inf, inf, inf, inf, inf, inf, inf]\n",
      "[0, 1, 2, 3, 4, inf, inf, inf, inf, inf, inf, inf, inf]\n",
      "[0, 1, 2, 3, 4, inf, inf, inf, inf, inf, inf, inf, inf]\n",
      "[0, 1, 2, 3, 4, 5, inf, inf, inf, inf, inf, inf, inf]\n",
      "[0, 1, 2, 3, 4, 5, 1, inf, inf, inf, inf, inf, inf]\n",
      "[0, 1, 2, 3, 4, 5, 1, inf, inf, inf, inf, inf, inf]\n",
      "[0, 1, 2, 3, 4, 5, 1, 2, inf, inf, inf, inf, inf]\n",
      "[0, 1, 2, 3, 4, 5, 1, 2, inf, inf, inf, inf, inf]\n",
      "[0, 1, 2, 3, 4, 5, 1, 2, 3, inf, inf, inf, inf]\n",
      "[0, 1, 2, 3, 4, 5, 1, 2, 3, inf, inf, inf, inf]\n",
      "[0, 1, 2, 3, 4, 5, 1, 2, 3, 4, inf, inf, inf]\n",
      "[0, 1, 2, 3, 4, 5, 1, 2, 3, 4, inf, inf, inf]\n",
      "[0, 1, 2, 3, 4, 5, 1, 2, 3, 4, 5, inf, inf]\n",
      "[0, 1, 2, 3, 4, 5, 1, 2, 3, 4, 5, inf, inf]\n",
      "[0, 1, 2, 3, 4, 5, 1, 2, 3, 4, 5, 6, inf]\n",
      "[0, 1, 2, 3, 4, 5, 1, 2, 3, 4, 5, 6, inf]\n",
      "[0, 1, 2, 3, 4, 5, 1, 2, 3, 4, 5, 6, 2]\n",
      "2\n"
     ]
    }
   ],
   "source": [
    "print(makeChange(denominations, value))"
   ]
  },
  {
   "cell_type": "code",
   "execution_count": null,
   "metadata": {},
   "outputs": [],
   "source": []
  }
 ],
 "metadata": {
  "kernelspec": {
   "display_name": "Python 3",
   "language": "python",
   "name": "python3"
  },
  "language_info": {
   "codemirror_mode": {
    "name": "ipython",
    "version": 3
   },
   "file_extension": ".py",
   "mimetype": "text/x-python",
   "name": "python",
   "nbconvert_exporter": "python",
   "pygments_lexer": "ipython3",
   "version": "3.6.6"
  }
 },
 "nbformat": 4,
 "nbformat_minor": 2
}
