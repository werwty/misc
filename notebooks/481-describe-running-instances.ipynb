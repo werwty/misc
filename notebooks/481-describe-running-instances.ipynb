{
 "cells": [
  {
   "cell_type": "code",
   "execution_count": 1,
   "metadata": {},
   "outputs": [],
   "source": [
    "import os\n",
    "from pprint import pprint\n",
    "from azure.common.credentials import ServicePrincipalCredentials\n",
    "from azure.mgmt.resource import ResourceManagementClient\n",
    "from azure.mgmt.compute import ComputeManagementClient\n"
   ]
  },
  {
   "cell_type": "code",
   "execution_count": 2,
   "metadata": {},
   "outputs": [],
   "source": [
    "# Subscription id can be found at https://portal.azure.com/#blade/Microsoft_Azure_Billing/SubscriptionsBlade\n",
    "subscription_id = os.environ.get('AZURE_SUBSCRIPTION_ID') \n",
    "\n",
    "# Register an Application to get the client id: https://portal.azure.com/#blade/Microsoft_AAD_IAM/ActiveDirectoryMenuBlade/RegisteredApps\n",
    "# Add a Key to the registered App to get the CLIENT_SECRET\n",
    "# Tenant id is the same as the directory id, and can be found in the AD->properties page\n",
    "# Where the heck to I configure rbac for this application?\n",
    "# OK, shortcut, there is a cli commmand that will create an application and configure RBAC:\n",
    "# az ad sp create-for-rbac\n",
    "# I can't find where applications are on the UI, but this does work... \n",
    "credentials = ServicePrincipalCredentials(\n",
    "    client_id=os.environ['AZURE_CLIENT_ID'],\n",
    "    secret=os.environ['AZURE_CLIENT_SECRET'],\n",
    "    tenant=os.environ['AZURE_TENANT_ID']\n",
    ")\n",
    "\n",
    "resource_client = ResourceManagementClient(credentials, subscription_id)\n",
    "compute_client = ComputeManagementClient(credentials, subscription_id)"
   ]
  },
  {
   "cell_type": "code",
   "execution_count": 22,
   "metadata": {},
   "outputs": [
    {
     "name": "stdout",
     "output_type": "stream",
     "text": [
      "{'additional_properties': {},\n",
      " 'boot_diagnostics': <azure.mgmt.compute.v2018_06_01.models.boot_diagnostics_instance_view_py3.BootDiagnosticsInstanceView object at 0x7f8aceecd400>,\n",
      " 'computer_name': 'test-vm-1',\n",
      " 'disks': [<azure.mgmt.compute.v2018_06_01.models.disk_instance_view_py3.DiskInstanceView object at 0x7f8aceecd5f8>],\n",
      " 'extensions': None,\n",
      " 'maintenance_redeploy_status': None,\n",
      " 'os_name': 'centos',\n",
      " 'os_version': '7.5.1804',\n",
      " 'platform_fault_domain': None,\n",
      " 'platform_update_domain': None,\n",
      " 'rdp_thumb_print': None,\n",
      " 'statuses': [<azure.mgmt.compute.v2018_06_01.models.instance_view_status_py3.InstanceViewStatus object at 0x7f8aceecd940>,\n",
      "              <azure.mgmt.compute.v2018_06_01.models.instance_view_status_py3.InstanceViewStatus object at 0x7f8aceecd518>],\n",
      " 'vm_agent': <azure.mgmt.compute.v2018_06_01.models.virtual_machine_agent_instance_view_py3.VirtualMachineAgentInstanceView object at 0x7f8aceecddd8>}\n",
      "'test-vm-1 is running!'\n"
     ]
    }
   ],
   "source": [
    "# resource_client.resources does not include resource group info \n",
    "# which we need to get to the vm, so we have to start by getting all the groups\n",
    "for groups in resource_client.resource_groups.list(): \n",
    "\n",
    "    resources = resource_client.resources.list_by_resource_group(groups.name)\n",
    "    for resource in resources:\n",
    "        if resource.type.startswith(\"Microsoft.Compute/virtualMachines\"):\n",
    "            # The only way to get the status of the VM is by looking at the instance View :(\n",
    "            # and the only way to see the instance view is by looking at the vms 1 by 1, instead of \n",
    "            # calling vm.list_all() or vm.list()\n",
    "            vm = compute_client.virtual_machines.get(\n",
    "                resource_group_name=groups.name,\n",
    "                vm_name=resource.name, expand='instanceView')\n",
    "            \n",
    "            # Interesting things on this instance view: \n",
    "            #    statuses-> what's the status on this thing?\n",
    "            #    os_name -> what's the os\n",
    "            pprint(vars(vm.instance_view))\n",
    "\n",
    "            # There are multiple statuses because azure has a `ProvisioningState/succeeded` status\n",
    "            # When the VM is shutdown, the `PowerState/running` status disappears\n",
    "            for status in vm.instance_view.statuses:\n",
    "                if status.code == \"PowerState/running\":               \n",
    "                    pprint(\"{} is running!\".format(resource.name))    "
   ]
  },
  {
   "cell_type": "code",
   "execution_count": null,
   "metadata": {},
   "outputs": [],
   "source": []
  },
  {
   "cell_type": "code",
   "execution_count": null,
   "metadata": {},
   "outputs": [],
   "source": []
  }
 ],
 "metadata": {
  "kernelspec": {
   "display_name": "Python 3",
   "language": "python",
   "name": "python3"
  },
  "language_info": {
   "codemirror_mode": {
    "name": "ipython",
    "version": 3
   },
   "file_extension": ".py",
   "mimetype": "text/x-python",
   "name": "python",
   "nbconvert_exporter": "python",
   "pygments_lexer": "ipython3",
   "version": "3.6.5"
  }
 },
 "nbformat": 4,
 "nbformat_minor": 2
}
