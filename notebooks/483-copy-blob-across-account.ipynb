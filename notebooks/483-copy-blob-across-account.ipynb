{
 "cells": [
  {
   "cell_type": "markdown",
   "metadata": {},
   "source": [
    "# Copy Image Across Accounts\n",
    "\n",
    "\n",
    "This is the python SDK equivalent of \n",
    "```\n",
    "az storage blob copy start --destination-blob --container --source-blob --source-container --source-account-name --source-account-key --account-name --account-key\n",
    "```\n",
    "\n",
    "This is dependent on the `azure-storage-blob` library:    \n",
    "```\n",
    "pip install azure-storage-blob\n",
    "```\n",
    "\n",
    "This script copies over all blobs with the extension `.vhd`. This does not gurantee us all the vhd blobs, but there doesn't seem to be a better way ¯\\\\\\_(ツ)\\_/¯ blob.type isn't of any use here, since that gets us the blob storage type. \n"
   ]
  },
  {
   "cell_type": "code",
   "execution_count": 3,
   "metadata": {},
   "outputs": [],
   "source": [
    "from datetime import datetime, timedelta\n",
    "from getpass import getpass\n",
    "from pprint import pprint\n",
    "from urllib.parse import quote, urlparse\n",
    "\n",
    "from azure.storage.blob.baseblobservice import BaseBlobService\n",
    "from azure.storage.blob.sharedaccesssignature import BlobSharedAccessSignature\n",
    "from azure.storage.blob.models import BlobPermissions"
   ]
  },
  {
   "cell_type": "code",
   "execution_count": 4,
   "metadata": {},
   "outputs": [
    {
     "name": "stdout",
     "output_type": "stream",
     "text": [
      "Password of source storage account········\n",
      "Password of destination storage account········\n"
     ]
    }
   ],
   "source": [
    "SAFE_CHARS = '/()$=\\',~'\n",
    "\n",
    "# this is Bizhang's account\n",
    "SOURCE_PASSWORD = getpass(prompt=\"Password of source storage account\")\n",
    "\n",
    "# this is Brad's account\n",
    "DEST_PASSWORD = getpass(prompt=\"Password of destination storage account\")"
   ]
  },
  {
   "cell_type": "code",
   "execution_count": 5,
   "metadata": {},
   "outputs": [],
   "source": [
    "dest_client = BaseBlobService(account_name='bloooobs', \n",
    "                               account_key=DEST_PASSWORD)\n",
    "\n",
    "source_client = BaseBlobService(account_name='cloudigradegroupdisks', \n",
    "                               account_key=SOURCE_PASSWORD)\n"
   ]
  },
  {
   "cell_type": "code",
   "execution_count": 16,
   "metadata": {},
   "outputs": [],
   "source": [
    "blobs = source_client.list_blobs(container_name='vhds')\n",
    "\n",
    "#Create a shared access signature for the source container\n",
    "expiry = (datetime.utcnow() + timedelta(days=1)).strftime('%Y-%m-%dT%H:%M:%SZ')\n",
    "sas = BlobSharedAccessSignature(account_name='cloudigradegroupdisks', \n",
    "                                account_key=SOURCE_PASSWORD)\n",
    "source_sas = sas.generate_container(\n",
    "    'vhds', \n",
    "    expiry=expiry, \n",
    "    protocol='https', \n",
    "    permission=BlobPermissions(read=True)\n",
    ")\n",
    "\n",
    "\n",
    "for blob in blobs:\n",
    "    \n",
    "    # if the blob is not a vhd, don't copy it.\n",
    "    if not blob.name.endswith('vhd'):\n",
    "        continue\n",
    "    \n",
    "    source_blob_url = source_client.make_blob_url(\n",
    "        container_name='vhds', \n",
    "        blob_name=quote(blob.name, SAFE_CHARS), \n",
    "        sas_token=source_sas\n",
    "    )\n",
    "    \n",
    "    dest_client.copy_blob(\n",
    "        container_name='containerofblobs', \n",
    "        blob_name=blob.name, \n",
    "        copy_source=source_blob_url\n",
    "    )  \n"
   ]
  },
  {
   "cell_type": "code",
   "execution_count": 17,
   "metadata": {},
   "outputs": [
    {
     "name": "stdout",
     "output_type": "stream",
     "text": [
      "'test-vm-120180917142750.vhd'\n",
      "None\n"
     ]
    }
   ],
   "source": [
    "# Check the destination Account to make sure blobs are copied over\n",
    "\n",
    "brads_blobs = dest_client.list_blobs(container_name='containerofblobs')\n",
    "for blob in brads_blobs:\n",
    "    pprint(blob.name)\n",
    "    pprint(blob.snapshot)"
   ]
  },
  {
   "cell_type": "code",
   "execution_count": null,
   "metadata": {},
   "outputs": [],
   "source": []
  }
 ],
 "metadata": {
  "celltoolbar": "Tags",
  "kernelspec": {
   "display_name": "Python 3",
   "language": "python",
   "name": "python3"
  },
  "language_info": {
   "codemirror_mode": {
    "name": "ipython",
    "version": 3
   },
   "file_extension": ".py",
   "mimetype": "text/x-python",
   "name": "python",
   "nbconvert_exporter": "python",
   "pygments_lexer": "ipython3",
   "version": "3.6.6"
  }
 },
 "nbformat": 4,
 "nbformat_minor": 2
}
