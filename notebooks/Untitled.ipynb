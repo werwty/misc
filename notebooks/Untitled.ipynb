{
 "cells": [
  {
   "cell_type": "code",
   "execution_count": 70,
   "metadata": {},
   "outputs": [
    {
     "name": "stdout",
     "output_type": "stream",
     "text": [
      "<bound method Counter.most_common of Counter({'M': 263, 'A': 177, 'U': 170, 'Y': 157, 'R': 143, 'N': 143, 'Z': 130, 'G': 126, 'D': 114, 'V': 103, 'C': 88, 'H': 64, 'Q': 62, 'P': 52, 'X': 51, 'I': 48, 'F': 42, 'K': 42, 'J': 27, 'T': 23, 'L': 17, 'S': 11, 'B': 4, 'O': 3, 'E': 2, 'W': 1})>\n"
     ]
    }
   ],
   "source": [
    "from collections import Counter\n",
    "\n",
    "ciphertext='YRDUVVNMTMGQZGFMAHKQYGRARYFDAZQHUGKPUTMNCYRDDMGAUVVRVMNCMGQZGHZXAVYNMCUFUYNRAADMLGYFDAVYFDAADMTYTYCRMNRMZQRVXHLMGYNFQYGMADUARMMHMCAZQYNCMEJGMRRYZNZNVKYNADZRMIZNCMGQXVAUINKMKMRZQDMGRGMHUGSULVMMKMRCYQQMGMNAQGZHUNKZADMGIZHUNRADUAYDUTMMTMGSNZINADMYNAMNRMJZIMGZQRAYVVNMRRRDMJZRRMRRMCIDYPDNMTMGADMVMRRPZNTMKMCADMYHJGMRRYZNZQUIYVCXNAUHMCRJYGYAYNUNMEOXYRYAMVKPYTYVYRMCLZCKUVVADMRMADYNFRUGMLXGNAYNAZHKHMHZGKYRDUVVNMTMGQZGFMAADMHRDMFGMMAMCHMIYADUQMIIZGCRZQJVMURUNAIMVPZHMYNUVZIPVMUGTZYPMUNCYRUNSYNAZULURSMAPDUYGQMMVYNFCYRAYNPAVKFVUCADUAYDUCUPPMJAMCBZDNRYNTYAUAYZNHGRPUTMNCYRDFUTMHMRZHMAMUUNCDMGQMIOXYMAGMHUGSRDMYFDAMNMCHKQYGRAYHJGMRRYZNZQDMGURUADZGZXFDVKQURPYNUAYNFIZHUNUNUJJGMPYUAYTMVYRAMNMGYRUVIUKRRAYHXVUAYNFUNCYCMRPGYLMCYNUDXHZGZXRHUNNMGPMGAUYNYNPYCMNARZQHKPZNTUVMRPMNADZHMYNUIUKIDYPDYQVUAAMGHKRMVQFGMUAVKUHXRMCHKDZRAMRRBZDNZQPZXGRMFZZCQMVVZIADZXFDDMYRPZXVCDUGCVKLMPUVVMCULGYVVYUNAPZNTMGRUAYZNUVYRAUAADUAHZHMNAUIMVVGMHMHLMGMCTZYPMQVZUAMCADGZXFDADMZJMNQGMNPDIYNCZINMUGUADUNCADMNKZXVVIGYAMAZADMJGYNPMRRUQAMGAMUUVQGMCYVVIGYAMAZVUCKAUCHYNRAMGQZGADMRMPZNCCUKHKRMVQZGRDUVVIMIUYAXNAYVIMDMUGQGZHADMJGYNPMRRYNPURMZQUGMQXRUVVUCKAUCHYNRAMGHYFDAZJMNYAADMQYGRACUKUNCHGRPGZRLYMADMRMPZNCADMNADMGMRADMCXPDMRRULZXAADMRPDZAMUADMGMIURADMHXGHXGZQUHUNRTZYPMUNCADMNRYNFVMADZGJRGZRMYNGMJVKKMRPMGAUYNVKUQAMGAMUIYVVCZOXYAMIMVVKZXUGMRZADZXFDAQXVUVQGMCCMUGADMQGMNPDIYNCZIRIXNFZJMNUVYAAVMIYCMGUNCUDUNCRZHMIDYAMDUYGMCZVCVUCKIYADURZHMIDUAHURAMGQXVPURAZQQMUAXGMRRAMJJMCZXAZQYAZNAZADMVUINUHUNQZVVZIMCDMGURXFFMRAYZNZQCMQMGMNPMYNDYRHUNNMGHGRYNFVMADZGJFGMMAMCHMIYADMQQXRYZNIDKYQYAYRNAAZZCMVYFDAQXVAZRMMKZXUFUYNHGDURAYNFRUQAMGUVVADMRMKMUGRUVQGMCCUGVYNFHGDURAYNFRHKDXRLUNCYVZZSMCIYADRZHMPXGYZRYAKUAUVQGMCCUGVYNFDMPMGAUYNVKRAGXPSUGUADMGUVYMNNZAMYCYCNZAIZNCMGUABZDNZLBMPAYNFAZDYRLMUGCYAIURZNMZQADMVZNFMRAUNCLVUPSMRAYDUTMMTMGRMMNDMIZGMFZVCGYHHMCJYNPMNMWUNCDUCUPXGYZXRYHJURRYTYAKZQQMUAXGMYARAGXPSHMADUADMHYFDAVZZSNUAXGUVZNURAUFMLXAIURRAGUNFMVKZXAZQJVUPMYNGMUVVYQMDYRTZYPMIURGUADMGCMMJUNCXNPAXZXRDMJVUPMCUIZZCMNDUNCYNHYNMUNCRUYCYRUJVMURXGMHGDURAYNFRADMNAXGNYNFAZDYRIYQMMHYVKCMUGMRAYADYNSADUAPXRDYZNYRUVYAAVMCUHJ'\n",
    "counts=Counter(ciphertext)\n",
    "sorted_freqency = 'e t a i s n o r h l d m f c u k g y p v b w x z j q'.replace(' ', '')\n",
    "\n",
    "message=ciphertext\n",
    "\n",
    "i=0\n",
    "for letter in counts.most_common():\n",
    "    message=message.replace(letter[0], sorted_freqency[i])\n",
    "    i=i+1"
   ]
  },
  {
   "cell_type": "code",
   "execution_count": 71,
   "metadata": {},
   "outputs": [
    {
     "name": "stdout",
     "output_type": "stream",
     "text": [
      "ishallneverforgetmyfirstsightofmarycavendishhertallslenderformoutlinedagainstthebrightlightthevividsenseofslumberingfirethatseemedtofindejpressiononlyinthosekonderfultaknyeyesofhersremarwableeyesdifferentfromanyotherkomansthatihaveeverwnokntheintensepokerofstillnessshepossessedkhichneverthelessconveyedtheimpressionofakilduntamedspiritinanejzuisitelycivilisedbodyallthesethingsareburntintomymemoryishallneverforgetthemshegreetedmekithafekkordsofpleasantkelcomeinalokclearvoiceandisanwintoabaswetchairfeelingdistinctlygladthatihadacceptedxohnsinvitationmrscavendishgavemesometeaandherfekzuietremarwsheightenedmyfirstimpressionofherasathoroughlyfascinatingkomananappreciativelistenerisalkaysstimulatingandidescribedinahumorousmannercertainincidentsofmyconvalescenthomeinakaykhichiflattermyselfgreatlyamusedmyhostessxohnofcoursegoodfellokthoughheiscouldhardlybecalledabrilliantconversationalistatthatmomentakellrememberedvoicefloatedthroughtheopenfrenchkindoknearathandthenyoullkritetotheprincessafterteaalfredillkritetoladytadminsterfortheseconddaymyselforshallkekaituntilkehearfromtheprincessincaseofarefusalladytadminstermightopenitthefirstdayandmrscrosbiethesecondthentherestheduchessabouttheschoteatherekasthemurmurofamansvoiceandthensinglethorpsroseinreplyyescertainlyafterteakilldozuitekellyouaresothoughtfulalfreddearthefrenchkindokskungopenalittlekiderandahandsomekhitehairedoldladykithasomekhatmasterfulcastoffeaturessteppedoutofitontothelaknamanfollokedherasuggestionofdeferenceinhismannermrsinglethorpgreetedmekitheffusionkhyifitisnttoodelightfultoseeyouagainmrhastingsafteralltheseyearsalfreddarlingmrhastingsmyhusbandiloowedkithsomecuriosityatalfreddarlinghecertainlystrucwaratheraliennoteididnotkonderatxohnobxectingtohisbearditkasoneofthelongestandblacwestihaveeverseenhekoregoldrimmedpinceneqandhadacuriousimpassivityoffeatureitstrucwmethathemightloownaturalonastagebutkasstrangelyoutofplaceinreallifehisvoicekasratherdeepandunctuousheplacedakoodenhandinmineandsaidisapleasuremrhastingsthenturningtohiskifeemilydearestithinwthatcushionisalittledamp\n"
     ]
    }
   ],
   "source": [
    "print(message)"
   ]
  },
  {
   "cell_type": "code",
   "execution_count": null,
   "metadata": {},
   "outputs": [],
   "source": [
    "ciphertext='RCOOFSUNSEERDAYAERVENOUARSOGHRASFETUHRTBGOTOONFHRSOHNTCIETIATNNNTEINAWOCNEONCDNVLIIERYBAITEEIDCNDDDOTTATERPEOHOPINITSOTALAMHLTRCNREEAEEAQEDTNWAWUOLENAGEERDNGAAIEACRIGTEWRITVALIGSWENTHRETHETNTAIHATRNNYOAOINASNOTNECIOCOADESVNDDCDAOIECNELTADEDNUONGEREERAWOAEGMNTTAETRBAFELLTIETAOTDHFWHAAWEROEETVMCDCDAOIEPRETTOAOTOHIFNILTDAEFFNSAAIASIRNLTEAEPFGCLHSREOOTHRHEWEOEHAEGTVIERSIVLTHHATTATONNTIAHLIIMTGTSEAVIIGTTHLEOITRIETFNPGRNDARHPAOTESOWUTHEOHDILTDTNBASIUGRASLEREENCEWSODNEATNAEIWDTCNOCTENASCORCENWCTAAEETANLNHOTIOSLHWUDRTGNORVEEHABLVEIMINNDGENDAHSDTAOWGEUDRLGEAEVHHRNECCESOEIATRDTAOAVFBRROOOEPUWRPTREODRADOODATTTECROLEDHRWLIITWLLNTLETOELNOGNOREBEERMMAWWERTHHRAESEYICUABTTVRNFNEEEWRHOTGHYTDAETEEDIIRHFRIUTOSEITVSLHRTNHIAGOERDEBTCTDEEAIRTHODEEUFHITNEHDIWNESWIRCOHKEWTHHYHUHFTOGOEAEVHHRUFTAESHNBSLROOVNACYADTSDREIIEFTOARHTBUEROSEEEDHDRTDCTIEAERTEOGHAKTRASTIIMNENAFRBEGOEHTSFUATTEOSRHMNRHEEOOAWDEDDEENACTIKSDEDREATOVNEIOHTOCTATEOURAFSCTHHWHIEEYGERHTEVLAHEFLSLAUTSREEMUAEOFTOVDTAOTIHNEEEHWRHLRGEIYHVTOHSELHSTEAETDHEADSAOHLALTNIDEIVEDITVHNNAHSTNAITOUTNANIGDESDORLAAVHHLEBAIEWNOFTRRFHOAENEMDAGTODTHNEENVMRTEOPTHFLBOYEEPPOHPTEEOTEHLRFOLPEEPELNHOSLARSPHTIEMHREF'\n",
    "\n",
    "for "
   ]
  }
 ],
 "metadata": {
  "kernelspec": {
   "display_name": "Python 3",
   "language": "python",
   "name": "python3"
  },
  "language_info": {
   "codemirror_mode": {
    "name": "ipython",
    "version": 3
   },
   "file_extension": ".py",
   "mimetype": "text/x-python",
   "name": "python",
   "nbconvert_exporter": "python",
   "pygments_lexer": "ipython3",
   "version": "3.6.8"
  }
 },
 "nbformat": 4,
 "nbformat_minor": 2
}
