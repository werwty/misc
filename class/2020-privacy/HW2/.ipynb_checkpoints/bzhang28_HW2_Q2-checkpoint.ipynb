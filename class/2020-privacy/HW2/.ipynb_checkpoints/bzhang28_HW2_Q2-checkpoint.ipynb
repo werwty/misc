{
 "cells": [
  {
   "cell_type": "code",
   "execution_count": 6,
   "metadata": {},
   "outputs": [],
   "source": [
    "import csv\n",
    "import matplotlib.pyplot as plt\n",
    "import numpy as np"
   ]
  },
  {
   "cell_type": "code",
   "execution_count": 7,
   "metadata": {},
   "outputs": [],
   "source": [
    "file_name = 'IL_employee_salary.csv'\n",
    "salaries = []\n",
    "with open(file_name, newline='') as csvfile:\n",
    "    reader = csv.DictReader(csvfile)\n",
    "    for row in reader:\n",
    "        salary = row['Annual Salary'].replace(',','').replace('$', '')\n",
    "        salaries.append(int(salary))\n",
    "        "
   ]
  },
  {
   "cell_type": "code",
   "execution_count": 180,
   "metadata": {},
   "outputs": [],
   "source": [
    "def autolabel(rects):\n",
    "    \"\"\"Attach a text label above each bar in *rects*, displaying its height.\"\"\"\n",
    "    for rect in rects:\n",
    "        height = rect.get_height()\n",
    "        ax.annotate('{}'.format(height),\n",
    "                    xy=(rect.get_x() + rect.get_width() / 2, height),\n",
    "                    xytext=(0, 3),  # 3 points vertical offset\n",
    "                    textcoords=\"offset points\",\n",
    "                    ha='center', va='bottom')\n"
   ]
  },
  {
   "cell_type": "code",
   "execution_count": 156,
   "metadata": {},
   "outputs": [
    {
     "name": "stdout",
     "output_type": "stream",
     "text": [
      "Q2. a.\n",
      "A histogram of the number of employees in different salary brackets\n"
     ]
    },
    {
     "data": {
      "image/png": "[encoded data removed]",
      "text/plain": [
       "<Figure size 432x288 with 1 Axes>"
      ]
     },
     "metadata": {
      "needs_background": "light"
     },
     "output_type": "display_data"
    }
   ],
   "source": [
    "# Q2 part a.\n",
    "\n",
    "print(\"Q2. a.\")\n",
    "print(\"A histogram of the number of employees in different salary brackets\")\n",
    "\n",
    "\n",
    "bins = [ 50000, 60000, 70000, 80000, 90000]\n",
    "number_occurances = [\n",
    "    len([salary for salary in salaries if salary>=50000 and salary<60000]),\n",
    "    len([salary for salary in salaries if salary>=60000 and salary<70000]),\n",
    "    len([salary for salary in salaries if salary>=70000 and salary<80000]),\n",
    "    len([salary for salary in salaries if salary>=80000 and salary<90000]),\n",
    "    len([salary for salary in salaries if salary>=90000 and salary<100000]),\n",
    "]\n",
    "x_labels = [\"[50K-60K)\", \n",
    "            \"[60K-70K)\", \n",
    "            \"[70K-80K)\", \n",
    "            \"[80K-90K)\",\n",
    "            \"[90K-100K)\",\n",
    "           ]\n",
    "\n",
    "x_pos = [i for i, _ in enumerate(bins)]\n",
    "plt.bar(x_pos,number_occurances)\n",
    "plt.xticks(x_pos, x_labels)\n",
    "\n",
    "for index, value in enumerate(number_occurances):\n",
    "    plt.text(index, value, str(value))\n",
    "    \n",
    "plt.show()\n",
    "\n"
   ]
  },
  {
   "cell_type": "code",
   "execution_count": 193,
   "metadata": {},
   "outputs": [
    {
     "name": "stdout",
     "output_type": "stream",
     "text": [
      "Q2. b.\n",
      "Sensitivity is 1, since this is a counting problem.\n",
      "lambda should be 1/epsilon\n"
     ]
    },
    {
     "data": {
      "image/png": "[encoded data removed]",
      "text/plain": [
       "<Figure size 432x288 with 1 Axes>"
      ]
     },
     "metadata": {
      "needs_background": "light"
     },
     "output_type": "display_data"
    }
   ],
   "source": [
    "print(\"Q2. b.\")\n",
    "print(\"Sensitivity is 1, since this is a counting problem.\")\n",
    "print(\"lambda should be 1/epsilon\")\n",
    "\n",
    "number_occurances = [\n",
    "    len([salary for salary in salaries if salary>=50000 and salary<60000]),\n",
    "    len([salary for salary in salaries if salary>=60000 and salary<70000]),\n",
    "    len([salary for salary in salaries if salary>=70000 and salary<80000]),\n",
    "    len([salary for salary in salaries if salary>=80000 and salary<90000]),\n",
    "    len([salary for salary in salaries if salary>=90000 and salary<100000])\n",
    "]\n",
    "\n",
    "epsilons = [.05, .1, 5]\n",
    "preturbed_counts = [[],[],[]]\n",
    "\n",
    "\n",
    "for count in number_occurances:\n",
    "    for i, epsilon in enumerate(epsilons):\n",
    "        loc, scale = count, 1/epsilon\n",
    "        noise = np.random.laplace(loc, scale, 1)\n",
    "        preturbed_counts[i].append(max(round(noise[0]),0))\n",
    "\n",
    "\n",
    "preturbed_counts\n",
    "\n",
    "\n",
    "x = np.arange(len(x_labels))  # the label locations\n",
    "width = 0.2  # the width of the bars\n",
    "\n",
    "fig, ax = plt.subplots()\n",
    "rects1 = ax.bar(x - width*2, number_occurances, width, label='Original Data')\n",
    "rects2 = ax.bar(x - width, preturbed_counts[0], width, label='Epsilon=.05')\n",
    "rects3 = ax.bar(x, preturbed_counts[1], width, label='Epsilon=.1')\n",
    "rects4 = ax.bar(x + width, preturbed_counts[2], width, label='Epsilon=5')\n",
    "\n",
    "\n",
    "autolabel(rects1)\n",
    "autolabel(rects2)\n",
    "autolabel(rects3)\n",
    "autolabel(rects4)\n",
    "\n",
    "ax.set_ylabel('Number of Occurances')\n",
    "ax.set_xticks(x)\n",
    "ax.set_xticklabels(x_labels)\n",
    "ax.legend()\n",
    "\n",
    "\n",
    "\n",
    "plt.show()\n",
    "# plt.bar(x_pos,preturbed_counts)\n",
    "# plt.xticks(x_pos, x_labels)\n",
    "\n",
    "# for index, value in enumerate(preturbed_counts):\n",
    "#      ax.text(index, value, str(value))\n",
    "    \n",
    "# plt.show()\n"
   ]
  },
  {
   "cell_type": "code",
   "execution_count": null,
   "metadata": {},
   "outputs": [],
   "source": []
  },
  {
   "cell_type": "code",
   "execution_count": null,
   "metadata": {},
   "outputs": [],
   "source": []
  },
  {
   "cell_type": "code",
   "execution_count": null,
   "metadata": {},
   "outputs": [],
   "source": []
  }
 ],
 "metadata": {
  "kernelspec": {
   "display_name": "Python 3",
   "language": "python",
   "name": "python3"
  },
  "language_info": {
   "codemirror_mode": {
    "name": "ipython",
    "version": 3
   },
   "file_extension": ".py",
   "mimetype": "text/x-python",
   "name": "python",
   "nbconvert_exporter": "python",
   "pygments_lexer": "ipython3",
   "version": "3.7.8"
  }
 },
 "nbformat": 4,
 "nbformat_minor": 4
}
