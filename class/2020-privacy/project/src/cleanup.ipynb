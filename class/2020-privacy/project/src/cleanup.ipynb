{
 "cells": [
  {
   "cell_type": "code",
   "execution_count": 3,
   "metadata": {},
   "outputs": [],
   "source": [
    "import json \n",
    "import os"
   ]
  },
  {
   "cell_type": "code",
   "execution_count": 29,
   "metadata": {},
   "outputs": [],
   "source": [
    "rootdir ='../data'\n",
    "\n",
    "for subdir, dirs, files in os.walk(rootdir):\n",
    "    for file in files:\n",
    "        json_file = os.path.join(subdir, file)\n",
    "        if file == \"privacy_policy.json\":\n",
    "            with open(json_file, 'r') as myfile:\n",
    "                try:\n",
    "                    data = json.load(myfile)\n",
    "                    privacy_policys = data['privacy_policy']\n",
    "                    if privacy_policys is not None:\n",
    "                        for i, policy in enumerate(privacy_policys):\n",
    "                            if type(policy['policy_text']) == str:\n",
    "                                data['privacy_policy'][i]['policy_text']= policy['policy_text'].rstrip()\n",
    "                            if type(policy['url']) == str:\n",
    "                                data['privacy_policy'][i]['url']= policy['url'].rstrip()\n",
    "                            if data['privacy_policy'][i]['policy_text'] == \"\":\n",
    "                                data['privacy_policy'][i]['policy_text'] = None\n",
    "\n",
    "                except KeyError as e:\n",
    "                    print(data)\n",
    "                    print(json_file)\n",
    "            with open(json_file, 'w') as myfile:\n",
    "                    json.dump(data, myfile, indent=4)\n",
    "\n"
   ]
  },
  {
   "cell_type": "code",
   "execution_count": 1,
   "metadata": {},
   "outputs": [
    {
     "ename": "NameError",
     "evalue": "name 'os' is not defined",
     "output_type": "error",
     "traceback": [
      "\u001b[0;31m---------------------------------------------------------------------------\u001b[0m",
      "\u001b[0;31mNameError\u001b[0m                                 Traceback (most recent call last)",
      "\u001b[0;32m<ipython-input-1-1c5633c354bd>\u001b[0m in \u001b[0;36m<module>\u001b[0;34m\u001b[0m\n\u001b[1;32m      1\u001b[0m \u001b[0mrootdir\u001b[0m \u001b[0;34m=\u001b[0m\u001b[0;34m'../data'\u001b[0m\u001b[0;34m\u001b[0m\u001b[0;34m\u001b[0m\u001b[0m\n\u001b[1;32m      2\u001b[0m \u001b[0;34m\u001b[0m\u001b[0m\n\u001b[0;32m----> 3\u001b[0;31m \u001b[0;32mfor\u001b[0m \u001b[0msubdir\u001b[0m\u001b[0;34m,\u001b[0m \u001b[0mdirs\u001b[0m\u001b[0;34m,\u001b[0m \u001b[0mfiles\u001b[0m \u001b[0;32min\u001b[0m \u001b[0mos\u001b[0m\u001b[0;34m.\u001b[0m\u001b[0mwalk\u001b[0m\u001b[0;34m(\u001b[0m\u001b[0mrootdir\u001b[0m\u001b[0;34m)\u001b[0m\u001b[0;34m:\u001b[0m\u001b[0;34m\u001b[0m\u001b[0;34m\u001b[0m\u001b[0m\n\u001b[0m\u001b[1;32m      4\u001b[0m     \u001b[0;32mfor\u001b[0m \u001b[0mfile\u001b[0m \u001b[0;32min\u001b[0m \u001b[0mfiles\u001b[0m\u001b[0;34m:\u001b[0m\u001b[0;34m\u001b[0m\u001b[0;34m\u001b[0m\u001b[0m\n\u001b[1;32m      5\u001b[0m         \u001b[0mjson_file\u001b[0m \u001b[0;34m=\u001b[0m \u001b[0mos\u001b[0m\u001b[0;34m.\u001b[0m\u001b[0mpath\u001b[0m\u001b[0;34m.\u001b[0m\u001b[0mjoin\u001b[0m\u001b[0;34m(\u001b[0m\u001b[0msubdir\u001b[0m\u001b[0;34m,\u001b[0m \u001b[0mfile\u001b[0m\u001b[0;34m)\u001b[0m\u001b[0;34m\u001b[0m\u001b[0;34m\u001b[0m\u001b[0m\n",
      "\u001b[0;31mNameError\u001b[0m: name 'os' is not defined"
     ]
    }
   ],
   "source": [
    "rootdir ='../data'\n",
    "\n",
    "for subdir, dirs, files in os.walk(rootdir):\n",
    "    for file in files:\n",
    "        json_file = os.path.join(subdir, file)\n",
    "        if file == \"guidelines.json\":\n",
    "            with open(json_file, 'r') as myfile:\n",
    "                try:\n",
    "                    data = json.load(myfile)\n",
    "                    app = data['app']\n",
    "                    contact = data['contact_tracing']\n",
    "                    self_reporting = data['self_reporting']\n",
    "                    if type(app) == str:\n",
    "                        data['app'] = app.rstrip()\n",
    "                        if data['app'] == \"\":\n",
    "                            data['app'] = None\n",
    "                    if type(contact) == str:\n",
    "                        data['contact_tracing'] = contact.rstrip()\n",
    "                        if data['contact_tracing'] == \"\":\n",
    "                            data['contact_tracing'] = None\n",
    "                    if type(self_reporting) == str:\n",
    "                        data['self_reporting'] = self_reporting.rstrip()\n",
    "                        if data['self_reporting'] == \"\":\n",
    "                            data['self_reporting'] = None\n",
    "                except KeyError as e:\n",
    "                    print(data)\n",
    "                    print(json_file)\n",
    "            with open(json_file, 'w') as myfile:\n",
    "                    json.dump(data, myfile, indent=4)\n",
    "\n"
   ]
  },
  {
   "cell_type": "code",
   "execution_count": 12,
   "metadata": {},
   "outputs": [],
   "source": [
    "rootdir ='../data'\n",
    "\n",
    "self_report_guidelines = []\n",
    "for subdir, dirs, files in os.walk(rootdir):\n",
    "    for file in files:\n",
    "        file_path = os.path.join(subdir, file)\n",
    "        if file == \"guidelines.json\":\n",
    "            with open(file_path, 'r') as myfile:\n",
    "                data = json.load(myfile)\n",
    "                \n",
    "                self_reporting = data['contact_tracing']\n",
    "                if type(self_reporting) == dict:\n",
    "                    text = self_reporting['guideline_text'].rstrip()\n",
    "                    url = self_reporting['url']\n",
    "                    if text:\n",
    "                        data['contact_tracing'] = text.rstrip()\n",
    "                    else:\n",
    "                        data['contact_tracing'] = None\n",
    "                        \n",
    "                    if url.rstrip():\n",
    "                        if 'urls' not in data:\n",
    "                            data['urls'] = []\n",
    "                        data['urls'].append(url.rstrip())\n",
    "            with open(file_path, 'w') as myfile:\n",
    "                json.dump(data, myfile, indent=4)\n",
    "\n"
   ]
  },
  {
   "cell_type": "code",
   "execution_count": null,
   "metadata": {},
   "outputs": [],
   "source": []
  }
 ],
 "metadata": {
  "kernelspec": {
   "display_name": "Python 3",
   "language": "python",
   "name": "python3"
  },
  "language_info": {
   "codemirror_mode": {
    "name": "ipython",
    "version": 3
   },
   "file_extension": ".py",
   "mimetype": "text/x-python",
   "name": "python",
   "nbconvert_exporter": "python",
   "pygments_lexer": "ipython3",
   "version": "3.8.5"
  }
 },
 "nbformat": 4,
 "nbformat_minor": 4
}
